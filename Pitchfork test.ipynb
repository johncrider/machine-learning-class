{
 "cells": [
  {
   "cell_type": "code",
   "execution_count": 41,
   "metadata": {},
   "outputs": [],
   "source": [
    "import pandas as pd\n",
    "import numpy as np"
   ]
  },
  {
   "cell_type": "code",
   "execution_count": 18,
   "metadata": {},
   "outputs": [
    {
     "name": "stdout",
     "output_type": "stream",
     "text": [
      "(12168, 8)\n"
     ]
    }
   ],
   "source": [
    "pitchfork_df = pd.read_csv('pitchfork1.csv')\n",
    "pitchfork_df=pitchfork_df.append(pd.read_csv('pitchfork2.csv'))\n",
    "pitchfork_df=pitchfork_df.append(pd.read_csv('pitchfork3.csv'))\n",
    "pitchfork_df=pitchfork_df.append(pd.read_csv('pitchfork4.csv'))\n",
    "pitchfork_df = pitchfork_df.reset_index()\n",
    "print(pitchfork_df.shape)"
   ]
  },
  {
   "cell_type": "code",
   "execution_count": 21,
   "metadata": {},
   "outputs": [],
   "source": [
    "import matplotlib as plt\n",
    "import seaborn as sns"
   ]
  },
  {
   "cell_type": "code",
   "execution_count": 37,
   "metadata": {},
   "outputs": [],
   "source": [
    "# Hmmm. Why are some of the scores Nan? I am going to turn them into -1\n",
    "# for now. I think that we should either get a real score for them, or remove them\n",
    "# from the dataset. Other thoughts?\n",
    "pitchfork_df.head()\n",
    "values = {'score':-1}\n",
    "pitchfork_df = pitchfork_df.fillna(value=values)\n",
    "#pitchfork_df['score'].values"
   ]
  },
  {
   "cell_type": "code",
   "execution_count": 38,
   "metadata": {},
   "outputs": [
    {
     "name": "stderr",
     "output_type": "stream",
     "text": [
      "/Users/johncrider/anaconda3/lib/python3.7/site-packages/scipy/stats/stats.py:1713: FutureWarning: Using a non-tuple sequence for multidimensional indexing is deprecated; use `arr[tuple(seq)]` instead of `arr[seq]`. In the future this will be interpreted as an array index, `arr[np.array(seq)]`, which will result either in an error or a different result.\n",
      "  return np.add.reduce(sorted[indexer] * weights, axis=axis) / sumval\n"
     ]
    },
    {
     "data": {
      "text/plain": [
       "<matplotlib.axes._subplots.AxesSubplot at 0x1a263debe0>"
      ]
     },
     "execution_count": 38,
     "metadata": {},
     "output_type": "execute_result"
    },
    {
     "data": {
      "image/png": "[encoded data removed]",
      "text/plain": [
       "<Figure size 432x288 with 1 Axes>"
      ]
     },
     "metadata": {
      "needs_background": "light"
     },
     "output_type": "display_data"
    }
   ],
   "source": [
    "sns.distplot(pitchfork_df['score'].values)"
   ]
  },
  {
   "cell_type": "code",
   "execution_count": 69,
   "metadata": {},
   "outputs": [
    {
     "name": "stdout",
     "output_type": "stream",
     "text": [
      "1.1352786888290622\n",
      "7.090154503616042\n",
      "0                 DJ-Kicks\n",
      "1    I Trawl the Megahertz\n",
      "Name: album, dtype: object\n",
      "DJ-Kicks\n"
     ]
    }
   ],
   "source": [
    "print(np.std(pitchfork_df['score'].values))\n",
    "print(np.mean(pitchfork_df['score'].values))\n",
    "print(pitchfork_df['album'][:2])\n",
    "print(pitchfork_df['album'][:2][0])\n"
   ]
  },
  {
   "cell_type": "code",
   "execution_count": 70,
   "metadata": {},
   "outputs": [
    {
     "data": {
      "text/html": [
       "<div>\n",
       "<style scoped>\n",
       "    .dataframe tbody tr th:only-of-type {\n",
       "        vertical-align: middle;\n",
       "    }\n",
       "\n",
       "    .dataframe tbody tr th {\n",
       "        vertical-align: top;\n",
       "    }\n",
       "\n",
       "    .dataframe thead th {\n",
       "        text-align: right;\n",
       "    }\n",
       "</style>\n",
       "<table border=\"1\" class=\"dataframe\">\n",
       "  <thead>\n",
       "    <tr style=\"text-align: right;\">\n",
       "      <th></th>\n",
       "      <th>Unnamed: 0</th>\n",
       "      <th>artist</th>\n",
       "      <th>album</th>\n",
       "      <th>score</th>\n",
       "      <th>genre</th>\n",
       "      <th>review</th>\n",
       "      <th>best</th>\n",
       "      <th>date</th>\n",
       "    </tr>\n",
       "  </thead>\n",
       "  <tbody>\n",
       "    <tr>\n",
       "      <th>0</th>\n",
       "      <td>0</td>\n",
       "      <td>Laurel Halo</td>\n",
       "      <td>DJ-Kicks</td>\n",
       "      <td>7.7</td>\n",
       "      <td>Electronic</td>\n",
       "      <td>On her first commercial mix album, the produce...</td>\n",
       "      <td>0</td>\n",
       "      <td>11 hrs ago</td>\n",
       "    </tr>\n",
       "    <tr>\n",
       "      <th>1</th>\n",
       "      <td>1</td>\n",
       "      <td>Prefab Sprout</td>\n",
       "      <td>I Trawl the Megahertz</td>\n",
       "      <td>8.5</td>\n",
       "      <td>Electronic</td>\n",
       "      <td>Best new reissue This lost Prefab Sprout album...</td>\n",
       "      <td>1</td>\n",
       "      <td>11 hrs ago</td>\n",
       "    </tr>\n",
       "    <tr>\n",
       "      <th>2</th>\n",
       "      <td>2</td>\n",
       "      <td>USA/Mexico</td>\n",
       "      <td>Matamoros</td>\n",
       "      <td>7.3</td>\n",
       "      <td>Rock</td>\n",
       "      <td>USA/Mexico are sludgy, nasty, and unclassifiab...</td>\n",
       "      <td>0</td>\n",
       "      <td>11 hrs ago</td>\n",
       "    </tr>\n",
       "    <tr>\n",
       "      <th>3</th>\n",
       "      <td>3</td>\n",
       "      <td>Tamaryn</td>\n",
       "      <td>Dreaming in the Dark</td>\n",
       "      <td>6.5</td>\n",
       "      <td>Rock</td>\n",
       "      <td>On her new album, Tamaryn aims for sky-high '8...</td>\n",
       "      <td>0</td>\n",
       "      <td>11 hrs ago</td>\n",
       "    </tr>\n",
       "    <tr>\n",
       "      <th>4</th>\n",
       "      <td>4</td>\n",
       "      <td>Nilüfer Yanya</td>\n",
       "      <td>Miss Universe</td>\n",
       "      <td>8.3</td>\n",
       "      <td>Pop/R&amp;B</td>\n",
       "      <td>Best new music The rapturous debut from the Br...</td>\n",
       "      <td>1</td>\n",
       "      <td>March 22 2019</td>\n",
       "    </tr>\n",
       "  </tbody>\n",
       "</table>\n",
       "</div>"
      ],
      "text/plain": [
       "   Unnamed: 0         artist                  album  score       genre  \\\n",
       "0           0    Laurel Halo               DJ-Kicks    7.7  Electronic   \n",
       "1           1  Prefab Sprout  I Trawl the Megahertz    8.5  Electronic   \n",
       "2           2     USA/Mexico              Matamoros    7.3        Rock   \n",
       "3           3        Tamaryn   Dreaming in the Dark    6.5        Rock   \n",
       "4           4  Nilüfer Yanya          Miss Universe    8.3     Pop/R&B   \n",
       "\n",
       "                                              review  best           date  \n",
       "0  On her first commercial mix album, the produce...     0     11 hrs ago  \n",
       "1  Best new reissue This lost Prefab Sprout album...     1     11 hrs ago  \n",
       "2  USA/Mexico are sludgy, nasty, and unclassifiab...     0     11 hrs ago  \n",
       "3  On her new album, Tamaryn aims for sky-high '8...     0     11 hrs ago  \n",
       "4  Best new music The rapturous debut from the Br...     1  March 22 2019  "
      ]
     },
     "execution_count": 70,
     "metadata": {},
     "output_type": "execute_result"
    }
   ],
   "source": [
    "pitchfork_df.head()"
   ]
  },
  {
   "cell_type": "code",
   "execution_count": 74,
   "metadata": {},
   "outputs": [],
   "source": [
    "# I picked 7.0 as an arbitrary cutoff between good and bad.\n",
    "\n",
    "pitchfork_df['rating'] = np.where(pitchfork_df['score']>7.0,1,0)"
   ]
  },
  {
   "cell_type": "code",
   "execution_count": 75,
   "metadata": {},
   "outputs": [
    {
     "data": {
      "text/html": [
       "<div>\n",
       "<style scoped>\n",
       "    .dataframe tbody tr th:only-of-type {\n",
       "        vertical-align: middle;\n",
       "    }\n",
       "\n",
       "    .dataframe tbody tr th {\n",
       "        vertical-align: top;\n",
       "    }\n",
       "\n",
       "    .dataframe thead th {\n",
       "        text-align: right;\n",
       "    }\n",
       "</style>\n",
       "<table border=\"1\" class=\"dataframe\">\n",
       "  <thead>\n",
       "    <tr style=\"text-align: right;\">\n",
       "      <th></th>\n",
       "      <th>Unnamed: 0</th>\n",
       "      <th>artist</th>\n",
       "      <th>album</th>\n",
       "      <th>score</th>\n",
       "      <th>genre</th>\n",
       "      <th>review</th>\n",
       "      <th>best</th>\n",
       "      <th>date</th>\n",
       "      <th>rating</th>\n",
       "    </tr>\n",
       "  </thead>\n",
       "  <tbody>\n",
       "    <tr>\n",
       "      <th>0</th>\n",
       "      <td>0</td>\n",
       "      <td>Laurel Halo</td>\n",
       "      <td>DJ-Kicks</td>\n",
       "      <td>7.7</td>\n",
       "      <td>Electronic</td>\n",
       "      <td>On her first commercial mix album, the produce...</td>\n",
       "      <td>0</td>\n",
       "      <td>11 hrs ago</td>\n",
       "      <td>1</td>\n",
       "    </tr>\n",
       "    <tr>\n",
       "      <th>1</th>\n",
       "      <td>1</td>\n",
       "      <td>Prefab Sprout</td>\n",
       "      <td>I Trawl the Megahertz</td>\n",
       "      <td>8.5</td>\n",
       "      <td>Electronic</td>\n",
       "      <td>Best new reissue This lost Prefab Sprout album...</td>\n",
       "      <td>1</td>\n",
       "      <td>11 hrs ago</td>\n",
       "      <td>1</td>\n",
       "    </tr>\n",
       "    <tr>\n",
       "      <th>2</th>\n",
       "      <td>2</td>\n",
       "      <td>USA/Mexico</td>\n",
       "      <td>Matamoros</td>\n",
       "      <td>7.3</td>\n",
       "      <td>Rock</td>\n",
       "      <td>USA/Mexico are sludgy, nasty, and unclassifiab...</td>\n",
       "      <td>0</td>\n",
       "      <td>11 hrs ago</td>\n",
       "      <td>1</td>\n",
       "    </tr>\n",
       "    <tr>\n",
       "      <th>3</th>\n",
       "      <td>3</td>\n",
       "      <td>Tamaryn</td>\n",
       "      <td>Dreaming in the Dark</td>\n",
       "      <td>6.5</td>\n",
       "      <td>Rock</td>\n",
       "      <td>On her new album, Tamaryn aims for sky-high '8...</td>\n",
       "      <td>0</td>\n",
       "      <td>11 hrs ago</td>\n",
       "      <td>0</td>\n",
       "    </tr>\n",
       "    <tr>\n",
       "      <th>4</th>\n",
       "      <td>4</td>\n",
       "      <td>Nilüfer Yanya</td>\n",
       "      <td>Miss Universe</td>\n",
       "      <td>8.3</td>\n",
       "      <td>Pop/R&amp;B</td>\n",
       "      <td>Best new music The rapturous debut from the Br...</td>\n",
       "      <td>1</td>\n",
       "      <td>March 22 2019</td>\n",
       "      <td>1</td>\n",
       "    </tr>\n",
       "  </tbody>\n",
       "</table>\n",
       "</div>"
      ],
      "text/plain": [
       "   Unnamed: 0         artist                  album  score       genre  \\\n",
       "0           0    Laurel Halo               DJ-Kicks    7.7  Electronic   \n",
       "1           1  Prefab Sprout  I Trawl the Megahertz    8.5  Electronic   \n",
       "2           2     USA/Mexico              Matamoros    7.3        Rock   \n",
       "3           3        Tamaryn   Dreaming in the Dark    6.5        Rock   \n",
       "4           4  Nilüfer Yanya          Miss Universe    8.3     Pop/R&B   \n",
       "\n",
       "                                              review  best           date  \\\n",
       "0  On her first commercial mix album, the produce...     0     11 hrs ago   \n",
       "1  Best new reissue This lost Prefab Sprout album...     1     11 hrs ago   \n",
       "2  USA/Mexico are sludgy, nasty, and unclassifiab...     0     11 hrs ago   \n",
       "3  On her new album, Tamaryn aims for sky-high '8...     0     11 hrs ago   \n",
       "4  Best new music The rapturous debut from the Br...     1  March 22 2019   \n",
       "\n",
       "   rating  \n",
       "0       1  \n",
       "1       1  \n",
       "2       1  \n",
       "3       0  \n",
       "4       1  "
      ]
     },
     "execution_count": 75,
     "metadata": {},
     "output_type": "execute_result"
    }
   ],
   "source": [
    "pitchfork_df.head()"
   ]
  },
  {
   "cell_type": "code",
   "execution_count": 80,
   "metadata": {},
   "outputs": [
    {
     "data": {
      "text/plain": [
       "0    On her first commercial mix album, the produce...\n",
       "0    After a scooter accident almost killed him, Wi...\n",
       "0    The 11 irresistibly fun songs on Brooklyn indi...\n",
       "0    The Compton-based, Dr. Dre-affiliated rapper s...\n",
       "Name: review, dtype: object"
      ]
     },
     "execution_count": 80,
     "metadata": {},
     "output_type": "execute_result"
    }
   ],
   "source": [
    "pitchfork_df['review'][0][0]"
   ]
  },
  {
   "cell_type": "code",
   "execution_count": 95,
   "metadata": {},
   "outputs": [],
   "source": [
    "def cleanReview(stringToClean):\n",
    "    return prepStringForProcessing(stringToClean)\n",
    "\n",
    "def prepStringForProcessing(inputString):\n",
    "    # this code cleans a string. It takes\n",
    "    # a string and removes the puncuation \n",
    "    # from the string. The cleaned string \n",
    "    # is returned\n",
    "    \n",
    "    # remove puncuation\n",
    "    outputString = inputString.replace(',','')\n",
    "    outputString = outputString.replace('.','')\n",
    "    outputString = outputString.replace(':','')\n",
    "    outputString = outputString.replace(';','')\n",
    "    outputString = outputString.replace('@','')\n",
    "    outputString = outputString.replace('\"','')\n",
    "    outputString = outputString.replace(\"'\",\"\")\n",
    "    outputString = outputString.replace(\"'\",\"\")\n",
    "    outputString = outputString.replace('?','')\n",
    "    outputString = outputString.replace('!','')\n",
    "    outputString = outputString.replace('#','')\n",
    "    outputString = outputString.replace('%','')\n",
    "    outputString = outputString.replace('&','')\n",
    "    outputString = outputString.replace('$','')\n",
    "    outputString = outputString.replace('^','')\n",
    "    outputString = outputString.replace('*','')\n",
    "    outputString = outputString.replace('(','')\n",
    "    outputString = outputString.replace(')','')\n",
    "    outputString = outputString.replace('!','')\n",
    "    outputString = outputString.replace('-','')\n",
    "    return outputString.lower();\n"
   ]
  },
  {
   "cell_type": "code",
   "execution_count": 96,
   "metadata": {},
   "outputs": [
    {
     "name": "stderr",
     "output_type": "stream",
     "text": [
      "/Users/johncrider/anaconda3/lib/python3.7/site-packages/ipykernel_launcher.py:2: SettingWithCopyWarning: \n",
      "A value is trying to be set on a copy of a slice from a DataFrame\n",
      "\n",
      "See the caveats in the documentation: http://pandas.pydata.org/pandas-docs/stable/indexing.html#indexing-view-versus-copy\n",
      "  \n"
     ]
    }
   ],
   "source": [
    "for i in range(0,len(pitchfork_df)-1):\n",
    "    pitchfork_df['review'][i] = cleanReview(pitchfork_df['review'][i])"
   ]
  },
  {
   "cell_type": "code",
   "execution_count": 97,
   "metadata": {},
   "outputs": [
    {
     "data": {
      "text/html": [
       "<div>\n",
       "<style scoped>\n",
       "    .dataframe tbody tr th:only-of-type {\n",
       "        vertical-align: middle;\n",
       "    }\n",
       "\n",
       "    .dataframe tbody tr th {\n",
       "        vertical-align: top;\n",
       "    }\n",
       "\n",
       "    .dataframe thead th {\n",
       "        text-align: right;\n",
       "    }\n",
       "</style>\n",
       "<table border=\"1\" class=\"dataframe\">\n",
       "  <thead>\n",
       "    <tr style=\"text-align: right;\">\n",
       "      <th></th>\n",
       "      <th>index</th>\n",
       "      <th>Unnamed: 0</th>\n",
       "      <th>artist</th>\n",
       "      <th>album</th>\n",
       "      <th>score</th>\n",
       "      <th>genre</th>\n",
       "      <th>review</th>\n",
       "      <th>best</th>\n",
       "      <th>date</th>\n",
       "      <th>rating</th>\n",
       "    </tr>\n",
       "  </thead>\n",
       "  <tbody>\n",
       "    <tr>\n",
       "      <th>0</th>\n",
       "      <td>0</td>\n",
       "      <td>0</td>\n",
       "      <td>Laurel Halo</td>\n",
       "      <td>DJ-Kicks</td>\n",
       "      <td>7.7</td>\n",
       "      <td>Electronic</td>\n",
       "      <td>on her first commercial mix album the producer...</td>\n",
       "      <td>0</td>\n",
       "      <td>11 hrs ago</td>\n",
       "      <td>1</td>\n",
       "    </tr>\n",
       "    <tr>\n",
       "      <th>1</th>\n",
       "      <td>1</td>\n",
       "      <td>1</td>\n",
       "      <td>Prefab Sprout</td>\n",
       "      <td>I Trawl the Megahertz</td>\n",
       "      <td>8.5</td>\n",
       "      <td>Electronic</td>\n",
       "      <td>best new reissue this lost prefab sprout album...</td>\n",
       "      <td>1</td>\n",
       "      <td>11 hrs ago</td>\n",
       "      <td>1</td>\n",
       "    </tr>\n",
       "    <tr>\n",
       "      <th>2</th>\n",
       "      <td>2</td>\n",
       "      <td>2</td>\n",
       "      <td>USA/Mexico</td>\n",
       "      <td>Matamoros</td>\n",
       "      <td>7.3</td>\n",
       "      <td>Rock</td>\n",
       "      <td>usa/mexico are sludgy nasty and unclassifiable...</td>\n",
       "      <td>0</td>\n",
       "      <td>11 hrs ago</td>\n",
       "      <td>1</td>\n",
       "    </tr>\n",
       "    <tr>\n",
       "      <th>3</th>\n",
       "      <td>3</td>\n",
       "      <td>3</td>\n",
       "      <td>Tamaryn</td>\n",
       "      <td>Dreaming in the Dark</td>\n",
       "      <td>6.5</td>\n",
       "      <td>Rock</td>\n",
       "      <td>on her new album tamaryn aims for skyhigh 80sg...</td>\n",
       "      <td>0</td>\n",
       "      <td>11 hrs ago</td>\n",
       "      <td>0</td>\n",
       "    </tr>\n",
       "    <tr>\n",
       "      <th>4</th>\n",
       "      <td>4</td>\n",
       "      <td>4</td>\n",
       "      <td>Nilüfer Yanya</td>\n",
       "      <td>Miss Universe</td>\n",
       "      <td>8.3</td>\n",
       "      <td>Pop/R&amp;B</td>\n",
       "      <td>best new music the rapturous debut from the br...</td>\n",
       "      <td>1</td>\n",
       "      <td>March 22 2019</td>\n",
       "      <td>1</td>\n",
       "    </tr>\n",
       "  </tbody>\n",
       "</table>\n",
       "</div>"
      ],
      "text/plain": [
       "   index  Unnamed: 0         artist                  album  score       genre  \\\n",
       "0      0           0    Laurel Halo               DJ-Kicks    7.7  Electronic   \n",
       "1      1           1  Prefab Sprout  I Trawl the Megahertz    8.5  Electronic   \n",
       "2      2           2     USA/Mexico              Matamoros    7.3        Rock   \n",
       "3      3           3        Tamaryn   Dreaming in the Dark    6.5        Rock   \n",
       "4      4           4  Nilüfer Yanya          Miss Universe    8.3     Pop/R&B   \n",
       "\n",
       "                                              review  best           date  \\\n",
       "0  on her first commercial mix album the producer...     0     11 hrs ago   \n",
       "1  best new reissue this lost prefab sprout album...     1     11 hrs ago   \n",
       "2  usa/mexico are sludgy nasty and unclassifiable...     0     11 hrs ago   \n",
       "3  on her new album tamaryn aims for skyhigh 80sg...     0     11 hrs ago   \n",
       "4  best new music the rapturous debut from the br...     1  March 22 2019   \n",
       "\n",
       "   rating  \n",
       "0       1  \n",
       "1       1  \n",
       "2       1  \n",
       "3       0  \n",
       "4       1  "
      ]
     },
     "execution_count": 97,
     "metadata": {},
     "output_type": "execute_result"
    }
   ],
   "source": [
    "pitchfork_df.head()"
   ]
  },
  {
   "cell_type": "code",
   "execution_count": 103,
   "metadata": {},
   "outputs": [],
   "source": [
    "import nltk\n",
    "from nltk.stem.porter import PorterStemmer\n",
    "\n",
    "def tokenizeStem(text):\n",
    "    tokens = nltk.word_tokenize(text)\n",
    "    stems = []\n",
    "    for item in tokens:\n",
    "        stems.append(PorterStemmer().stem(item))\n",
    "    return stems"
   ]
  },
  {
   "cell_type": "code",
   "execution_count": 106,
   "metadata": {},
   "outputs": [],
   "source": [
    "from sklearn.model_selection import train_test_split\n",
    "\n",
    "from sklearn.feature_extraction.text import TfidfVectorizer,  CountVectorizer,TfidfTransformer  \n",
    "from sklearn.model_selection import GridSearchCV  \n",
    "from sklearn.naive_bayes import MultinomialNB  \n",
    "\n",
    "from sklearn.pipeline import Pipeline  \n",
    "from time import time  \n",
    "from sklearn.svm import LinearSVC"
   ]
  },
  {
   "cell_type": "code",
   "execution_count": 108,
   "metadata": {},
   "outputs": [
    {
     "name": "stdout",
     "output_type": "stream",
     "text": [
      "Pipeline(memory=None,\n",
      "     steps=[('vec', CountVectorizer(analyzer='word', binary=False, decode_error='strict',\n",
      "        dtype=<class 'numpy.int64'>, encoding='utf-8', input='content',\n",
      "        lowercase=True, max_df=0.5, max_features=700000, min_df=1,\n",
      "        ngram_range=(1, 3), preprocessor=None, stop_words=None,\n",
      "        stri...ax_iter=1000,\n",
      "     multi_class='ovr', penalty='l2', random_state=None, tol=0.0001,\n",
      "     verbose=0))])\n",
      "0.7739043824701195\n",
      "done in 242.16569328308105s\n"
     ]
    }
   ],
   "source": [
    "\n",
    "\n",
    "minisize = .99\n",
    "\n",
    "t0 = time()  \n",
    "X = pitchfork_df['review']\n",
    "y = pitchfork_df['rating']\n",
    "X_train, X_test, y_train, y_test = train_test_split(X, y,test_size=minisize, random_state=42)\n",
    "X_train_mini, X_test_mini, y_train_mini, y_test_mini = train_test_split(X_test, y_test,test_size=0.25)\n",
    "\n",
    "pipeline = Pipeline([\n",
    "    ('vec', CountVectorizer(tokenizer=tokenizeStem, max_df=0.5, max_features=700000, min_df=1, ngram_range=(1,3))),\n",
    "    ('tfidf', TfidfTransformer()), \n",
    "    ('clf', LinearSVC())])\n",
    "pipeline.fit(X_train_mini, y_train_mini)\n",
    "print(pipeline)\n",
    "print(pipeline.score(X_test_mini, y_test_mini))\n",
    "\n",
    "print(\"done in {0}s\".format(time() - t0))  "
   ]
  },
  {
   "cell_type": "code",
   "execution_count": 109,
   "metadata": {},
   "outputs": [
    {
     "name": "stdout",
     "output_type": "stream",
     "text": [
      "0.7739043824701195\n"
     ]
    }
   ],
   "source": [
    "\n",
    "print(pipeline.score(X_test_mini, y_test_mini))"
   ]
  },
  {
   "cell_type": "code",
   "execution_count": 110,
   "metadata": {},
   "outputs": [
    {
     "name": "stdout",
     "output_type": "stream",
     "text": [
      "Requirement already satisfied: twython in /Users/johncrider/anaconda3/lib/python3.7/site-packages (3.7.0)\r\n",
      "Requirement already satisfied: requests-oauthlib>=0.4.0 in /Users/johncrider/anaconda3/lib/python3.7/site-packages (from twython) (1.2.0)\r\n",
      "Requirement already satisfied: requests>=2.1.0 in /Users/johncrider/anaconda3/lib/python3.7/site-packages (from twython) (2.21.0)\r\n",
      "Requirement already satisfied: oauthlib>=3.0.0 in /Users/johncrider/anaconda3/lib/python3.7/site-packages (from requests-oauthlib>=0.4.0->twython) (3.0.1)\r\n",
      "Requirement already satisfied: idna<2.9,>=2.5 in /Users/johncrider/anaconda3/lib/python3.7/site-packages (from requests>=2.1.0->twython) (2.8)\r\n",
      "Requirement already satisfied: certifi>=2017.4.17 in /Users/johncrider/anaconda3/lib/python3.7/site-packages (from requests>=2.1.0->twython) (2018.11.29)\r\n",
      "Requirement already satisfied: chardet<3.1.0,>=3.0.2 in /Users/johncrider/anaconda3/lib/python3.7/site-packages (from requests>=2.1.0->twython) (3.0.4)\r\n",
      "Requirement already satisfied: urllib3<1.25,>=1.21.1 in /Users/johncrider/anaconda3/lib/python3.7/site-packages (from requests>=2.1.0->twython) (1.24.1)\r\n"
     ]
    }
   ],
   "source": []
  },
  {
   "cell_type": "code",
   "execution_count": null,
   "metadata": {},
   "outputs": [],
   "source": []
  }
 ],
 "metadata": {
  "kernelspec": {
   "display_name": "Python 3",
   "language": "python",
   "name": "python3"
  },
  "language_info": {
   "codemirror_mode": {
    "name": "ipython",
    "version": 3
   },
   "file_extension": ".py",
   "mimetype": "text/x-python",
   "name": "python",
   "nbconvert_exporter": "python",
   "pygments_lexer": "ipython3",
   "version": "3.7.1"
  }
 },
 "nbformat": 4,
 "nbformat_minor": 2
}
