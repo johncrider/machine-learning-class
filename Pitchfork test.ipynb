{
 "cells": [
  {
   "cell_type": "code",
   "execution_count": 1,
   "metadata": {},
   "outputs": [],
   "source": [
    "import pandas as pd\n",
    "import numpy as np\n",
    "import matplotlib\n",
    "from matplotlib import pyplot as plt\n",
    "import seaborn as sns\n",
    "\n",
    "from sklearn.neural_network import MLPClassifier\n",
    "%matplotlib inline"
   ]
  },
  {
   "cell_type": "markdown",
   "metadata": {},
   "source": [
    "# Scrape Documents"
   ]
  },
  {
   "cell_type": "code",
   "execution_count": 2,
   "metadata": {},
   "outputs": [],
   "source": [
    "from bs4 import BeautifulSoup\n",
    "import requests\n",
    "import datetime as dt"
   ]
  },
  {
   "cell_type": "code",
   "execution_count": 3,
   "metadata": {},
   "outputs": [],
   "source": [
    "def gather_links(pages, startPage):\n",
    "    pageList = [] #list of album review pages\n",
    "    linkList = [] #list of album links\n",
    "    for x in range(startPage,(startPage+pages)): #check the first n pages after the requested one\n",
    "        pageList.append(requests.get(\"https://pitchfork.com/reviews/albums/?page=\" + str(x))) #add each page to list\n",
    "    for page in pageList:\n",
    "        soup = BeautifulSoup(page.content, 'html.parser') #parse its contents\n",
    "        links = soup.find_all(class_=\"review__link\") #gather its links (in raw html)\n",
    "        for link in links: #for each link\n",
    "            linkList.append(link.get('href')) #append only the link itself\n",
    "    return linkList\n",
    "\n",
    "def gather_info(album_link):\n",
    "    page = requests.get(\"https://pitchfork.com\" + album_link) #request URL\n",
    "    soup = BeautifulSoup(page.content, 'html.parser') #parse with beautifulsoup\n",
    "    title = str(soup.find('title').string) #album and artist \n",
    "    try:\n",
    "        score = float((soup.find(class_=\"score\").string)) #score\n",
    "    except AttributeError:\n",
    "        score = None\n",
    "    try:\n",
    "        genre = soup.find(class_=\"genre-list__link\").string #genre\n",
    "    except AttributeError:\n",
    "        genre = None\n",
    "    sents = [element.text for element in soup.find_all('p')] #cleaned text output\n",
    "    string = \" \".join(sents)\n",
    "    try:\n",
    "        date = str(soup.find(class_=\"pub-date\").string) #date\n",
    "    except AttributeError:\n",
    "        date = None\n",
    "    #create dataframe with column labels\n",
    "    d = {'artist': [get_artist(title)], 'album': [get_album(title)], 'score': [score], 'genre': [genre], 'review': [string], 'best': [1 if \"Best new\" in string else 0], 'date': [date]}\n",
    "    df = pd.DataFrame(data=d)\n",
    "    return df\n",
    "\n",
    "def get_artist(title):\n",
    "    str = ''\n",
    "    for character in title: #for each character in title\n",
    "        #add to string up until ':' \n",
    "        if character is not ':':\n",
    "            str += character\n",
    "        else:\n",
    "            break\n",
    "    return str\n",
    "\n",
    "def get_album(title):\n",
    "    str = ''\n",
    "    #find ':' and index and start there\n",
    "    index = title.find(\":\")\n",
    "    title = title[index+2:]\n",
    "    #for each character afterwards, add it until '|'\n",
    "    for character in title:\n",
    "        if character is '|':\n",
    "            break\n",
    "        else:\n",
    "            str +=character\n",
    "    return str[:-14] #return just the title\n",
    "\n",
    "def gather(pages, startPage, fileLocation, fileName):\n",
    "    linkList = gather_links(pages, startPage) #gather links\n",
    "    first = True #special variable for first scrape\n",
    "    newDF = pd.DataFrame()\n",
    "    for link in linkList: #for each link\n",
    "        data = gather_info(link) #gather info\n",
    "        #if first, newDF becomes the initial dataframe\n",
    "        if first:\n",
    "            newDF = data\n",
    "            first = False\n",
    "        #otherwise append it\n",
    "        else:\n",
    "            newDF = newDF.append(data, ignore_index = True)\n",
    "    #when scraping complete, export to .csv \n",
    "    newDF.to_csv(path_or_buf = fileLocation + \"/\" + fileName + \".csv\")\n",
    "    #return true if gather was successful\n",
    "    return True"
   ]
  },
  {
   "cell_type": "code",
   "execution_count": 4,
   "metadata": {},
   "outputs": [],
   "source": [
    "# Since data has been scraped once and put into CSV,\n",
    "# we commented out this section to scrape from the website.\n",
    "# It takes over 5 hours to run.\n",
    "\n",
    "# start = dt.datetime.now()\n",
    "# gather(254, 1, \"C:\\\\Users\\\\sanderdv\\\\OneDrive - University of Cincinnati\\\\School\\\\Second Year\\\\Spring 2019\\\\Machine Learning and Data Analytics\\\\Project\", \"pitchfork1\")\n",
    "# print(str(dt.datetime.now()-start))\n",
    "\n",
    "# start = dt.datetime.now()\n",
    "# gather(254, 255, \"C:\\\\Users\\\\sanderdv\\\\OneDrive - University of Cincinnati\\\\School\\\\Second Year\\\\Spring 2019\\\\Machine Learning and Data Analytics\\\\Project\", \"pitchfork2\")\n",
    "# print(str(dt.datetime.now()-start))\n",
    "\n",
    "# start = dt.datetime.now()\n",
    "# gather(254, 509, \"C:\\\\Users\\\\sanderdv\\\\OneDrive - University of Cincinnati\\\\School\\\\Second Year\\\\Spring 2019\\\\Machine Learning and Data Analytics\\\\Project\", \"pitchfork3\")\n",
    "# print(str(dt.datetime.now()-start))\n",
    "\n",
    "# start = dt.datetime.now()\n",
    "# gather(254, 763, \"C:\\\\Users\\\\sanderdv\\\\OneDrive - University of Cincinnati\\\\School\\\\Second Year\\\\Spring 2019\\\\Machine Learning and Data Analytics\\\\Project\", \"pitchfork4\")\n",
    "# print(str(dt.datetime.now()-start))\n"
   ]
  },
  {
   "cell_type": "markdown",
   "metadata": {},
   "source": [
    "# Text Preprocessing"
   ]
  },
  {
   "cell_type": "code",
   "execution_count": 5,
   "metadata": {},
   "outputs": [
    {
     "name": "stdout",
     "output_type": "stream",
     "text": [
      "(12168, 9)\n"
     ]
    }
   ],
   "source": [
    "# load the pitchfork_df from the CSV\n",
    "pitchfork_df = pd.read_csv('pitchfork1.csv')\n",
    "pitchfork_df=pitchfork_df.append(pd.read_csv('pitchfork2.csv'))\n",
    "pitchfork_df=pitchfork_df.append(pd.read_csv('pitchfork3.csv'))\n",
    "pitchfork_df=pitchfork_df.append(pd.read_csv('pitchfork4.csv'))\n",
    "pitchfork_df = pitchfork_df.reset_index()\n",
    "print(pitchfork_df.shape)"
   ]
  },
  {
   "cell_type": "code",
   "execution_count": 6,
   "metadata": {},
   "outputs": [],
   "source": [
    "# Replace missing values\n",
    "pitchfork_df.head()\n",
    "values = {'score':-1}\n",
    "pitchfork_df = pitchfork_df.fillna(value=values)\n",
    "#pitchfork_df['score'].values\n",
    "misc = {'genre':'Misc'}\n",
    "pitchfork_df = pitchfork_df.fillna(value=misc)"
   ]
  },
  {
   "cell_type": "code",
   "execution_count": 7,
   "metadata": {},
   "outputs": [],
   "source": [
    "def cleanReview(stringToClean):\n",
    "    return prepStringForProcessing(stringToClean)\n",
    "\n",
    "def prepStringForProcessing(inputString):\n",
    "    # this code cleans a string. It takes\n",
    "    # a string and removes the puncuation \n",
    "    # from the string. The cleaned string \n",
    "    # is returned\n",
    "    \n",
    "    # remove puncuation\n",
    "    outputString = inputString.replace(',','')\n",
    "    outputString = outputString.replace('.','')\n",
    "    outputString = outputString.replace(':','')\n",
    "    outputString = outputString.replace(';','')\n",
    "    outputString = outputString.replace('@','')\n",
    "    outputString = outputString.replace('\"','')\n",
    "    outputString = outputString.replace(\"'\",\"\")\n",
    "    outputString = outputString.replace(\"'\",\"\")\n",
    "    outputString = outputString.replace('?','')\n",
    "    outputString = outputString.replace('!','')\n",
    "    outputString = outputString.replace('#','')\n",
    "    outputString = outputString.replace('%','')\n",
    "    outputString = outputString.replace('&','')\n",
    "    outputString = outputString.replace('$','')\n",
    "    outputString = outputString.replace('^','')\n",
    "    outputString = outputString.replace('*','')\n",
    "    outputString = outputString.replace('(','')\n",
    "    outputString = outputString.replace(')','')\n",
    "    outputString = outputString.replace('!','')\n",
    "    outputString = outputString.replace('-','')\n",
    "    \n",
    "    # We should remove stopwords here\n",
    "    return outputString.lower();\n"
   ]
  },
  {
   "cell_type": "code",
   "execution_count": 8,
   "metadata": {},
   "outputs": [
    {
     "name": "stderr",
     "output_type": "stream",
     "text": [
      "/Users/johncrider/anaconda3/lib/python3.7/site-packages/ipykernel_launcher.py:2: SettingWithCopyWarning: \n",
      "A value is trying to be set on a copy of a slice from a DataFrame\n",
      "\n",
      "See the caveats in the documentation: http://pandas.pydata.org/pandas-docs/stable/indexing.html#indexing-view-versus-copy\n",
      "  \n"
     ]
    }
   ],
   "source": [
    "for i in range(0,len(pitchfork_df)-1):\n",
    "    pitchfork_df['review'][i] = cleanReview(pitchfork_df['review'][i])"
   ]
  },
  {
   "cell_type": "markdown",
   "metadata": {},
   "source": [
    "# Exploratory Analysis"
   ]
  },
  {
   "cell_type": "code",
   "execution_count": 9,
   "metadata": {},
   "outputs": [
    {
     "name": "stderr",
     "output_type": "stream",
     "text": [
      "/Users/johncrider/anaconda3/lib/python3.7/site-packages/scipy/stats/stats.py:1713: FutureWarning: Using a non-tuple sequence for multidimensional indexing is deprecated; use `arr[tuple(seq)]` instead of `arr[seq]`. In the future this will be interpreted as an array index, `arr[np.array(seq)]`, which will result either in an error or a different result.\n",
      "  return np.add.reduce(sorted[indexer] * weights, axis=axis) / sumval\n"
     ]
    },
    {
     "data": {
      "text/plain": [
       "<matplotlib.axes._subplots.AxesSubplot at 0x1a23366a58>"
      ]
     },
     "execution_count": 9,
     "metadata": {},
     "output_type": "execute_result"
    },
    {
     "data": {
      "image/png": "[encoded data removed]",
      "text/plain": [
       "<Figure size 432x288 with 1 Axes>"
      ]
     },
     "metadata": {
      "needs_background": "light"
     },
     "output_type": "display_data"
    }
   ],
   "source": [
    "#Get histogram of scores\n",
    "sns.distplot(pitchfork_df['score'].values)"
   ]
  },
  {
   "cell_type": "code",
   "execution_count": 10,
   "metadata": {},
   "outputs": [
    {
     "name": "stdout",
     "output_type": "stream",
     "text": [
      "1.1352786888290622\n",
      "7.090154503616042\n"
     ]
    }
   ],
   "source": [
    "print(np.std(pitchfork_df['score'].values))\n",
    "print(np.mean(pitchfork_df['score'].values))"
   ]
  },
  {
   "cell_type": "code",
   "execution_count": 11,
   "metadata": {},
   "outputs": [
    {
     "data": {
      "text/html": [
       "<div>\n",
       "<style scoped>\n",
       "    .dataframe tbody tr th:only-of-type {\n",
       "        vertical-align: middle;\n",
       "    }\n",
       "\n",
       "    .dataframe tbody tr th {\n",
       "        vertical-align: top;\n",
       "    }\n",
       "\n",
       "    .dataframe thead th {\n",
       "        text-align: right;\n",
       "    }\n",
       "</style>\n",
       "<table border=\"1\" class=\"dataframe\">\n",
       "  <thead>\n",
       "    <tr style=\"text-align: right;\">\n",
       "      <th></th>\n",
       "      <th>index</th>\n",
       "      <th>Unnamed: 0</th>\n",
       "      <th>artist</th>\n",
       "      <th>album</th>\n",
       "      <th>score</th>\n",
       "      <th>genre</th>\n",
       "      <th>review</th>\n",
       "      <th>best</th>\n",
       "      <th>date</th>\n",
       "    </tr>\n",
       "  </thead>\n",
       "  <tbody>\n",
       "    <tr>\n",
       "      <th>0</th>\n",
       "      <td>0</td>\n",
       "      <td>0</td>\n",
       "      <td>Laurel Halo</td>\n",
       "      <td>DJ-Kicks</td>\n",
       "      <td>7.7</td>\n",
       "      <td>Electronic</td>\n",
       "      <td>on her first commercial mix album the producer...</td>\n",
       "      <td>0</td>\n",
       "      <td>11 hrs ago</td>\n",
       "    </tr>\n",
       "    <tr>\n",
       "      <th>1</th>\n",
       "      <td>1</td>\n",
       "      <td>1</td>\n",
       "      <td>Prefab Sprout</td>\n",
       "      <td>I Trawl the Megahertz</td>\n",
       "      <td>8.5</td>\n",
       "      <td>Electronic</td>\n",
       "      <td>best new reissue this lost prefab sprout album...</td>\n",
       "      <td>1</td>\n",
       "      <td>11 hrs ago</td>\n",
       "    </tr>\n",
       "    <tr>\n",
       "      <th>2</th>\n",
       "      <td>2</td>\n",
       "      <td>2</td>\n",
       "      <td>USA/Mexico</td>\n",
       "      <td>Matamoros</td>\n",
       "      <td>7.3</td>\n",
       "      <td>Rock</td>\n",
       "      <td>usa/mexico are sludgy nasty and unclassifiable...</td>\n",
       "      <td>0</td>\n",
       "      <td>11 hrs ago</td>\n",
       "    </tr>\n",
       "    <tr>\n",
       "      <th>3</th>\n",
       "      <td>3</td>\n",
       "      <td>3</td>\n",
       "      <td>Tamaryn</td>\n",
       "      <td>Dreaming in the Dark</td>\n",
       "      <td>6.5</td>\n",
       "      <td>Rock</td>\n",
       "      <td>on her new album tamaryn aims for skyhigh 80sg...</td>\n",
       "      <td>0</td>\n",
       "      <td>11 hrs ago</td>\n",
       "    </tr>\n",
       "    <tr>\n",
       "      <th>4</th>\n",
       "      <td>4</td>\n",
       "      <td>4</td>\n",
       "      <td>Nilüfer Yanya</td>\n",
       "      <td>Miss Universe</td>\n",
       "      <td>8.3</td>\n",
       "      <td>Pop/R&amp;B</td>\n",
       "      <td>best new music the rapturous debut from the br...</td>\n",
       "      <td>1</td>\n",
       "      <td>March 22 2019</td>\n",
       "    </tr>\n",
       "  </tbody>\n",
       "</table>\n",
       "</div>"
      ],
      "text/plain": [
       "   index  Unnamed: 0         artist                  album  score       genre  \\\n",
       "0      0           0    Laurel Halo               DJ-Kicks    7.7  Electronic   \n",
       "1      1           1  Prefab Sprout  I Trawl the Megahertz    8.5  Electronic   \n",
       "2      2           2     USA/Mexico              Matamoros    7.3        Rock   \n",
       "3      3           3        Tamaryn   Dreaming in the Dark    6.5        Rock   \n",
       "4      4           4  Nilüfer Yanya          Miss Universe    8.3     Pop/R&B   \n",
       "\n",
       "                                              review  best           date  \n",
       "0  on her first commercial mix album the producer...     0     11 hrs ago  \n",
       "1  best new reissue this lost prefab sprout album...     1     11 hrs ago  \n",
       "2  usa/mexico are sludgy nasty and unclassifiable...     0     11 hrs ago  \n",
       "3  on her new album tamaryn aims for skyhigh 80sg...     0     11 hrs ago  \n",
       "4  best new music the rapturous debut from the br...     1  March 22 2019  "
      ]
     },
     "execution_count": 11,
     "metadata": {},
     "output_type": "execute_result"
    }
   ],
   "source": [
    "pitchfork_df.head()"
   ]
  },
  {
   "cell_type": "code",
   "execution_count": 12,
   "metadata": {},
   "outputs": [],
   "source": [
    "# I picked 7.0 as an arbitrary cutoff between good and bad.\n",
    "\n",
    "pitchfork_df['rating'] = np.where(pitchfork_df['score']>7.0,1,0)"
   ]
  },
  {
   "cell_type": "code",
   "execution_count": 13,
   "metadata": {},
   "outputs": [
    {
     "data": {
      "text/html": [
       "<div>\n",
       "<style scoped>\n",
       "    .dataframe tbody tr th:only-of-type {\n",
       "        vertical-align: middle;\n",
       "    }\n",
       "\n",
       "    .dataframe tbody tr th {\n",
       "        vertical-align: top;\n",
       "    }\n",
       "\n",
       "    .dataframe thead th {\n",
       "        text-align: right;\n",
       "    }\n",
       "</style>\n",
       "<table border=\"1\" class=\"dataframe\">\n",
       "  <thead>\n",
       "    <tr style=\"text-align: right;\">\n",
       "      <th></th>\n",
       "      <th>index</th>\n",
       "      <th>Unnamed: 0</th>\n",
       "      <th>artist</th>\n",
       "      <th>album</th>\n",
       "      <th>score</th>\n",
       "      <th>genre</th>\n",
       "      <th>review</th>\n",
       "      <th>best</th>\n",
       "      <th>date</th>\n",
       "      <th>rating</th>\n",
       "    </tr>\n",
       "  </thead>\n",
       "  <tbody>\n",
       "    <tr>\n",
       "      <th>0</th>\n",
       "      <td>0</td>\n",
       "      <td>0</td>\n",
       "      <td>Laurel Halo</td>\n",
       "      <td>DJ-Kicks</td>\n",
       "      <td>7.7</td>\n",
       "      <td>Electronic</td>\n",
       "      <td>on her first commercial mix album the producer...</td>\n",
       "      <td>0</td>\n",
       "      <td>11 hrs ago</td>\n",
       "      <td>1</td>\n",
       "    </tr>\n",
       "    <tr>\n",
       "      <th>1</th>\n",
       "      <td>1</td>\n",
       "      <td>1</td>\n",
       "      <td>Prefab Sprout</td>\n",
       "      <td>I Trawl the Megahertz</td>\n",
       "      <td>8.5</td>\n",
       "      <td>Electronic</td>\n",
       "      <td>best new reissue this lost prefab sprout album...</td>\n",
       "      <td>1</td>\n",
       "      <td>11 hrs ago</td>\n",
       "      <td>1</td>\n",
       "    </tr>\n",
       "    <tr>\n",
       "      <th>2</th>\n",
       "      <td>2</td>\n",
       "      <td>2</td>\n",
       "      <td>USA/Mexico</td>\n",
       "      <td>Matamoros</td>\n",
       "      <td>7.3</td>\n",
       "      <td>Rock</td>\n",
       "      <td>usa/mexico are sludgy nasty and unclassifiable...</td>\n",
       "      <td>0</td>\n",
       "      <td>11 hrs ago</td>\n",
       "      <td>1</td>\n",
       "    </tr>\n",
       "    <tr>\n",
       "      <th>3</th>\n",
       "      <td>3</td>\n",
       "      <td>3</td>\n",
       "      <td>Tamaryn</td>\n",
       "      <td>Dreaming in the Dark</td>\n",
       "      <td>6.5</td>\n",
       "      <td>Rock</td>\n",
       "      <td>on her new album tamaryn aims for skyhigh 80sg...</td>\n",
       "      <td>0</td>\n",
       "      <td>11 hrs ago</td>\n",
       "      <td>0</td>\n",
       "    </tr>\n",
       "    <tr>\n",
       "      <th>4</th>\n",
       "      <td>4</td>\n",
       "      <td>4</td>\n",
       "      <td>Nilüfer Yanya</td>\n",
       "      <td>Miss Universe</td>\n",
       "      <td>8.3</td>\n",
       "      <td>Pop/R&amp;B</td>\n",
       "      <td>best new music the rapturous debut from the br...</td>\n",
       "      <td>1</td>\n",
       "      <td>March 22 2019</td>\n",
       "      <td>1</td>\n",
       "    </tr>\n",
       "  </tbody>\n",
       "</table>\n",
       "</div>"
      ],
      "text/plain": [
       "   index  Unnamed: 0         artist                  album  score       genre  \\\n",
       "0      0           0    Laurel Halo               DJ-Kicks    7.7  Electronic   \n",
       "1      1           1  Prefab Sprout  I Trawl the Megahertz    8.5  Electronic   \n",
       "2      2           2     USA/Mexico              Matamoros    7.3        Rock   \n",
       "3      3           3        Tamaryn   Dreaming in the Dark    6.5        Rock   \n",
       "4      4           4  Nilüfer Yanya          Miss Universe    8.3     Pop/R&B   \n",
       "\n",
       "                                              review  best           date  \\\n",
       "0  on her first commercial mix album the producer...     0     11 hrs ago   \n",
       "1  best new reissue this lost prefab sprout album...     1     11 hrs ago   \n",
       "2  usa/mexico are sludgy nasty and unclassifiable...     0     11 hrs ago   \n",
       "3  on her new album tamaryn aims for skyhigh 80sg...     0     11 hrs ago   \n",
       "4  best new music the rapturous debut from the br...     1  March 22 2019   \n",
       "\n",
       "   rating  \n",
       "0       1  \n",
       "1       1  \n",
       "2       1  \n",
       "3       0  \n",
       "4       1  "
      ]
     },
     "execution_count": 13,
     "metadata": {},
     "output_type": "execute_result"
    }
   ],
   "source": [
    "#show new column 'rating'\n",
    "pitchfork_df.head()"
   ]
  },
  {
   "cell_type": "code",
   "execution_count": 14,
   "metadata": {},
   "outputs": [
    {
     "name": "stdout",
     "output_type": "stream",
     "text": [
      "['Electronic' 'Rock' 'Pop/R&B' 'Rap' 'Jazz' 'Experimental' 'Metal'\n",
      " 'Folk/Country' 'Misc' 'Global']\n",
      "genre\n",
      "Electronic      5.864384\n",
      "Experimental    6.721053\n",
      "Folk/Country    6.766000\n",
      "Global          7.276667\n",
      "Jazz            7.553846\n",
      "Metal           6.570909\n",
      "Misc            5.971875\n",
      "Pop/R&B         6.389062\n",
      "Rap             5.997183\n",
      "Rock            5.890000\n",
      "Name: score, dtype: float64\n"
     ]
    },
    {
     "data": {
      "image/png": "[encoded data removed]",
      "text/plain": [
       "<Figure size 432x288 with 1 Axes>"
      ]
     },
     "metadata": {
      "needs_background": "light"
     },
     "output_type": "display_data"
    }
   ],
   "source": [
    "#order by score from high to low\n",
    "ranked = pitchfork_df.sort_values(by='score', ascending=False)\n",
    "\n",
    "#show top 50 scores\n",
    "ranked.head(50)\n",
    "\n",
    "#find all unique genres\n",
    "genres = pitchfork_df.genre.unique()\n",
    "print(genres)\n",
    "\n",
    "#Create line graph of scores by genre\n",
    "ranked.groupby(['score','genre']).size().unstack(fill_value=0).plot()\n",
    "\n",
    "#Create list with the average album score by genre\n",
    "avg_score = ranked.groupby(['genre'])['score'].agg(lambda x: x.unique().mean())\n",
    "print(avg_score)"
   ]
  },
  {
   "cell_type": "code",
   "execution_count": 15,
   "metadata": {},
   "outputs": [
    {
     "data": {
      "text/plain": [
       "<matplotlib.collections.PathCollection at 0x1a234be9e8>"
      ]
     },
     "execution_count": 15,
     "metadata": {},
     "output_type": "execute_result"
    },
    {
     "data": {
      "image/png": "[encoded data removed]",
      "text/plain": [
       "<Figure size 432x288 with 1 Axes>"
      ]
     },
     "metadata": {
      "needs_background": "light"
     },
     "output_type": "display_data"
    }
   ],
   "source": [
    "#Create scatter plot of average score by genre\n",
    "plt.title(\"Average Score by Genre\") #add title\n",
    "\n",
    "plt.xlim(left=5, right=9) #set table start and end values\n",
    "\n",
    "plt.xlabel(\"Averages\") #add x-axis label\n",
    "\n",
    "plt.grid(b=True, which='major', axis='both') #add grid lines\n",
    "\n",
    "plt.scatter(avg_score[:],avg_score.index)"
   ]
  },
  {
   "cell_type": "code",
   "execution_count": 16,
   "metadata": {},
   "outputs": [
    {
     "name": "stdout",
     "output_type": "stream",
     "text": [
      "(79, 10)\n",
      "      index Unnamed: 0                                artist  \\\n",
      "176     176        176                        Alice Coltrane   \n",
      "239     239        239                             Talk Talk   \n",
      "456     456        456                         Talking Heads   \n",
      "490     490        490                           Bikini Kill   \n",
      "556     556        556                            De La Soul   \n",
      "581     581        581                             PJ Harvey   \n",
      "916     916        916                              The Band   \n",
      "942     942        942                                  Hole   \n",
      "1057   1057       1057                             Liz Phair   \n",
      "1070   1070       1070  Captain Beefheart and His Magic Band   \n",
      "1224   1224       1224                     Bruce Springsteen   \n",
      "1543   1543       1543                             Metallica   \n",
      "1683   1683       1683                            The Smiths   \n",
      "2035   2035       2035                         Guns N' Roses   \n",
      "2095   2095       2095               Prince / The Revolution   \n",
      "2109   2109       2109                             Radiohead   \n",
      "2177   2177       2177                      Ghostface Killah   \n",
      "2431   2431       2431                           Glenn Gould   \n",
      "2493   2493       2493                  The Notorious B.I.G.   \n",
      "2499   2499       2499                         Elliott Smith   \n",
      "2533   2533       2533                                Weezer   \n",
      "2612   2612       2612                                 Björk   \n",
      "2691   2691       2691                            X-Ray Spex   \n",
      "2907   2907       2907                      Public Image Ltd   \n",
      "2916   2916       2916                             Bob Dylan   \n",
      "3071     23         23                             Brian Eno   \n",
      "3167    119        119                         Stevie Wonder   \n",
      "3246    198        198                           Nina Simone   \n",
      "3370    322        322                            Neil Young   \n",
      "3422    374        374                             Kate Bush   \n",
      "...     ...        ...                                   ...   \n",
      "7359   1263       1263                         Fleetwood Mac   \n",
      "7419   1323       1323                                   Nas   \n",
      "7444   1348       1348                               J Dilla   \n",
      "7509   1413       1413                              D’Angelo   \n",
      "7584   1488       1488                      William Basinski   \n",
      "7969   1873       1873                                   GZA   \n",
      "8214   2118       2118                   My Bloody Valentine   \n",
      "8683   2587       2587                                   Can   \n",
      "8809   2713       2713                        The Beach Boys   \n",
      "8849   2753       2753               Talk Talk / Mark Hollis   \n",
      "8939   2843       2843                               Nirvana   \n",
      "9790    646        646                The Dismemberment Plan   \n",
      "9885    741        741                            Kanye West   \n",
      "9950    806        806                                Weezer   \n",
      "10430  1286       1286                              The Cure   \n",
      "10505  1361       1361                    The Rolling Stones   \n",
      "10765  1621       1621                              Pavement   \n",
      "10785  1641       1641                         Spiritualized   \n",
      "11310  2166       2166                       The Stone Roses   \n",
      "11313  2169       2169                           The Beatles   \n",
      "11315  2171       2171                           The Beatles   \n",
      "11317  2173       2173                           The Beatles   \n",
      "11318  2174       2174                           The Beatles   \n",
      "11319  2175       2175                           The Beatles   \n",
      "11320  2176       2176                           The Beatles   \n",
      "11326  2182       2182                           The Beatles   \n",
      "11371  2227       2227                             Radiohead   \n",
      "11531  2387       2387                                R.E.M.   \n",
      "11875  2731       2731                      Serge Gainsbourg   \n",
      "12016  2872       2872                          Beastie Boys   \n",
      "\n",
      "                                                   album  score         genre  \\\n",
      "176                             Journey in Satchidananda   10.0          Jazz   \n",
      "239                                       Spirit of Eden   10.0          Rock   \n",
      "456                                      Remain in Light   10.0          Rock   \n",
      "490                                          The Singles   10.0          Rock   \n",
      "556                               3 Feet High and Rising   10.0           Rap   \n",
      "581                                            Rid of Me   10.0          Rock   \n",
      "916                                             The Band   10.0          Rock   \n",
      "942                                    Live Through This   10.0          Rock   \n",
      "1057   Girly-Sound to Guyville: The 25th Anniversary ...   10.0          Rock   \n",
      "1070                                  Trout Mask Replica   10.0  Experimental   \n",
      "1224                                            Nebraska   10.0          Rock   \n",
      "1543                                   Master of Puppets   10.0         Metal   \n",
      "1683                                   The Queen Is Dead   10.0          Rock   \n",
      "2035                            Appetite for Destruction   10.0          Rock   \n",
      "2095               Purple Rain Deluxe — Expanded Edition   10.0       Pop/R&B   \n",
      "2109                       OK Computer OKNOTOK 1997 2017   10.0          Rock   \n",
      "2177                                   Supreme Clientele   10.0           Rap   \n",
      "2431                       Bach: The Goldberg Variations   10.0          Jazz   \n",
      "2493                                        Ready to Die   10.0           Rap   \n",
      "2499                         Either/Or: Expanded Edition   10.0          Rock   \n",
      "2533                                 Weezer (Blue Album)   10.0          Rock   \n",
      "2612                                           Homogenic   10.0    Electronic   \n",
      "2691                                Germfree Adolescents   10.0          Rock   \n",
      "2907                                           Metal Box   10.0          Rock   \n",
      "2916                                 Blood on the Tracks   10.0          Rock   \n",
      "3071                                 Another Green World   10.0  Experimental   \n",
      "3167                            Songs in the Key of Life   10.0       Pop/R&B   \n",
      "3246                                   The Philips Years   10.0          Jazz   \n",
      "3370                                 Tonight's the Night   10.0          Rock   \n",
      "3422                                      Hounds of Love   10.0       Pop/R&B   \n",
      "...                                                  ...    ...           ...   \n",
      "7359                                             Rumours   10.0          Rock   \n",
      "7419                                            Illmatic   10.0           Rap   \n",
      "7444                                 Donuts (45 Box Set)   10.0           Rap   \n",
      "7509                                              Voodoo   10.0       Pop/R&B   \n",
      "7584                            The Disintegration Loops   10.0  Experimental   \n",
      "7969             Liquid Swords: Chess Box Deluxe Edition   10.0           Rap   \n",
      "8214           Isn't Anything / Loveless / EPs 1988-1991   10.0  Experimental   \n",
      "8683                Tago Mago [40th Anniversary Edition]   10.0  Experimental   \n",
      "8809                                  The Smile Sessions   10.0          Rock   \n",
      "8849                        Laughing Stock / Mark Hollis   10.0          Rock   \n",
      "8939                Nevermind [20th Anniversary Edition]   10.0          Rock   \n",
      "9790                       Emergency & I [Vinyl Reissue]   10.0          Rock   \n",
      "9885                   My Beautiful Dark Twisted Fantasy   10.0           Rap   \n",
      "9950   Pinkerton [Deluxe Edition] / Death to False Metal   10.0          Rock   \n",
      "10430                    Disintegration [Deluxe Edition]   10.0          Rock   \n",
      "10505                 Exile on Main St. [Deluxe Edition]   10.0          Rock   \n",
      "10765                                Quarantine the Past   10.0          Rock   \n",
      "10785  Ladies and Gentlemen We are Floating in Space ...   10.0  Experimental   \n",
      "11310                                    The Stone Roses   10.0          Rock   \n",
      "11313                                         Abbey Road   10.0          Rock   \n",
      "11315                                        The Beatles   10.0          Rock   \n",
      "11317                               Magical Mystery Tour   10.0          Rock   \n",
      "11318              Sgt. Pepper's Lonely Hearts Club Band   10.0          Rock   \n",
      "11319                                           Revolver   10.0          Rock   \n",
      "11320                                        Rubber Soul   10.0          Rock   \n",
      "11326                               Stereo Box / In Mono   10.0          Rock   \n",
      "11371                  Kid A: Special Collectors Edition   10.0          Rock   \n",
      "11531                         Reckoning [Deluxe Edition]   10.0          Rock   \n",
      "11875                          Histoire de Melody Nelson   10.0       Pop/R&B   \n",
      "12016                                    Paul's Boutique   10.0           Rap   \n",
      "\n",
      "                                                  review best  \\\n",
      "176    each sunday pitchfork takes an indepth look at...    0   \n",
      "239    each sunday pitchfork takes an indepth look at...    0   \n",
      "456    each sunday pitchfork takes an indepth look at...    0   \n",
      "490    best new reissue newly reissued on vinyl bikin...    1   \n",
      "556    each sunday pitchfork takes an indepth look at...    0   \n",
      "581    each sunday pitchfork takes an indepth look at...    0   \n",
      "916    each sunday pitchfork takes an indepth look at...    0   \n",
      "942    each sunday pitchfork takes an indepth look at...    0   \n",
      "1057   best new reissue liz phair’s indelible essenti...    1   \n",
      "1070   best new reissue captain beefheart’s 1969 mast...    1   \n",
      "1224   each sunday pitchfork takes an indepth look at...    0   \n",
      "1543   best new reissue in 1986 metallica released in...    1   \n",
      "1683   newly reissued as a boxed set the smiths’ 1986...    0   \n",
      "2035   the debut from guns n roses was a watershed mo...    0   \n",
      "2095   best new reissue in 1984 purple rain turned pr...    1   \n",
      "2109   best new reissue twenty years on radiohead rev...    1   \n",
      "2177   an unrivaled classic supreme clientele marked ...    0   \n",
      "2431   1 / 2 albums two virtuosic performances of a b...    0   \n",
      "2493   today we commemorate the 20th anniversary of t...    0   \n",
      "2499   best new reissue the 20th anniversary remaster...    1   \n",
      "2533   weezer’s 1994 debut filled with geeky humor de...    0   \n",
      "2612   homogenic embraced all of björk’s most provoca...    0   \n",
      "2691   xray spex’s debut album is a brash vivid maste...    0   \n",
      "2907   best new reissue pils second album metal box i...    1   \n",
      "2916   bob dylan’s moody 1975 epic is often referred ...    0   \n",
      "3071   brian eno has done everything from producing h...    0   \n",
      "3167   songs in the key of life was the culmination o...    0   \n",
      "3246   1 / 7 albums the philips years is a humble tit...    0   \n",
      "3370   neil youngs tonights the night is a harrowing ...    0   \n",
      "3422   with her selfproduced fifth album kate bush be...    0   \n",
      "...                                                  ...  ...   \n",
      "7359   best new reissue upon its release in 1977 rumo...    1   \n",
      "7419   best new reissue the 1994 hiphop landmark is r...    1   \n",
      "7444   best new reissue the songs on j dillas signatu...    1   \n",
      "7509   best new reissue twelve years since dangelo re...    1   \n",
      "7584   best new reissue the four volumes of william b...    1   \n",
      "7969   best new reissue as a solo artist gza was esse...    1   \n",
      "8214   best new reissue best new reissue best new rei...    1   \n",
      "8683   cans 1971 album tago mago freshly reissued in ...    0   \n",
      "8809   best new reissue conceived recorded and ultima...    1   \n",
      "8849   best new reissue best new reissue 1 / 2 albums...    1   \n",
      "8939   twenty years on the album that changed the cou...    0   \n",
      "9790   best new reissue one of the alltime great indi...    1   \n",
      "9885   best new music kanyes big year culminates in a...    1   \n",
      "9950   best new reissue 1 / 2 albums weezers overlook...    1   \n",
      "10430  best new reissue the cure’s 1989 album release...    1   \n",
      "10505  best new reissue the 1972 classic is given a r...    1   \n",
      "10765  best new reissue the first careerspanning pave...    1   \n",
      "10785  best new reissue this new deluxe limited produ...    1   \n",
      "11310  best new reissue a badly needed remaster of th...    1   \n",
      "11313  the perfect ending to a recording career this ...    0   \n",
      "11315  indulgent sprawling overflowing with ideas and...    0   \n",
      "11317  the only american release to become part of th...    0   \n",
      "11318  though it has perhaps slipped in estimation si...    0   \n",
      "11319  as they devoted more time to the studio the be...    0   \n",
      "11320  the beatles first undisputed masterpiece is th...    0   \n",
      "11326  best new reissue best new reissue 1 / 2 albums...    1   \n",
      "11371  best new reissue capitol follows its excavatio...    1   \n",
      "11531  best new reissue the expanded reissues of albu...    1   \n",
      "11875  best new reissue almost unbelievably the frenc...    1   \n",
      "12016  best new reissue the beastie boys’ landmark se...    1   \n",
      "\n",
      "                    date rating  \n",
      "176      February 3 2019      1  \n",
      "239      January 13 2019      1  \n",
      "456      October 21 2018      1  \n",
      "490      October 11 2018      1  \n",
      "556    September 23 2018      1  \n",
      "581    September 16 2018      1  \n",
      "916         June 10 2018      1  \n",
      "942          June 3 2018      1  \n",
      "1057          May 2 2018      1  \n",
      "1070       April 28 2018      1  \n",
      "1224       March 18 2018      1  \n",
      "1543     December 2 2017      1  \n",
      "1683     October 22 2017      1  \n",
      "2035        July 16 2017      1  \n",
      "2095        June 26 2017      1  \n",
      "2109        June 22 2017      1  \n",
      "2177         June 4 2017      1  \n",
      "2431       March 26 2017      1  \n",
      "2493        March 9 2017      1  \n",
      "2499        March 7 2017      1  \n",
      "2533    February 26 2017      1  \n",
      "2612     February 5 2017      1  \n",
      "2691     January 15 2017      1  \n",
      "2907     November 1 2016      1  \n",
      "2916     October 30 2016      1  \n",
      "3071   September 18 2016      1  \n",
      "3167      August 21 2016      1  \n",
      "3246        July 30 2016      1  \n",
      "3370        June 26 2016      1  \n",
      "3422        June 12 2016      1  \n",
      "...                  ...    ...  \n",
      "7359     February 8 2013      1  \n",
      "7419     January 23 2013      1  \n",
      "7444     January 16 2013      1  \n",
      "7509    December 12 2012      1  \n",
      "7584    November 19 2012      1  \n",
      "7969        July 27 2012      1  \n",
      "8214         May 11 2012      1  \n",
      "8683     December 9 2011      1  \n",
      "8809     November 2 2011      1  \n",
      "8849     October 21 2011      1  \n",
      "8939   September 27 2011      1  \n",
      "9790     January 11 2011      1  \n",
      "9885    November 22 2010      1  \n",
      "9950     November 3 2010      1  \n",
      "10430       June 10 2010      1  \n",
      "10505        May 19 2010      1  \n",
      "10765       March 8 2010      1  \n",
      "10785       March 2 2010      1  \n",
      "11310  September 11 2009      1  \n",
      "11313  September 10 2009      1  \n",
      "11315  September 10 2009      1  \n",
      "11317   September 9 2009      1  \n",
      "11318   September 9 2009      1  \n",
      "11319   September 9 2009      1  \n",
      "11320   September 9 2009      1  \n",
      "11326   September 7 2009      1  \n",
      "11371     August 25 2009      1  \n",
      "11531        July 2 2009      1  \n",
      "11875      March 26 2009      1  \n",
      "12016   February 13 2009      1  \n",
      "\n",
      "[79 rows x 10 columns]\n"
     ]
    }
   ],
   "source": [
    "#Create dataframe of albums with a perfect score of 10\n",
    "perfect = pd.DataFrame(data=None, index=None, columns=pitchfork_df.columns)\n",
    "for i in range(len(pitchfork_df)):\n",
    "    if pitchfork_df['score'][i] == 10.0:\n",
    "        perfect = perfect.append(pitchfork_df.loc[i])\n",
    "print(perfect.shape)\n",
    "print(perfect)"
   ]
  },
  {
   "cell_type": "code",
   "execution_count": 17,
   "metadata": {},
   "outputs": [
    {
     "name": "stdout",
     "output_type": "stream",
     "text": [
      "The Beatles                             7\n",
      "The Velvet Underground                  3\n",
      "Prince                                  3\n",
      "Radiohead                               2\n",
      "Metallica                               2\n",
      "Nirvana                                 2\n",
      "David Bowie                             2\n",
      "Weezer                                  2\n",
      "The Rolling Stones                      2\n",
      "Prince / The Revolution                 2\n",
      "William Basinski                        1\n",
      "Mobb Deep                               1\n",
      "Liz Phair                               1\n",
      "The Stone Roses                         1\n",
      "Björk                                   1\n",
      "R.E.M.                                  1\n",
      "Pavement                                1\n",
      "The Beach Boys                          1\n",
      "X-Ray Spex                              1\n",
      "Nas                                     1\n",
      "Serge Gainsbourg                        1\n",
      "Fleetwood Mac                           1\n",
      "Van Morrison                            1\n",
      "De La Soul                              1\n",
      "Captain Beefheart and His Magic Band    1\n",
      "D’Angelo                                1\n",
      "Hole                                    1\n",
      "The Notorious B.I.G.                    1\n",
      "Bruce Springsteen                       1\n",
      "GZA                                     1\n",
      "                                       ..\n",
      "The Dismemberment Plan                  1\n",
      "PJ Harvey                               1\n",
      "The Smiths                              1\n",
      "The Cure                                1\n",
      "A Tribe Called Quest                    1\n",
      "Beastie Boys                            1\n",
      "Neil Young                              1\n",
      "My Bloody Valentine                     1\n",
      "Talk Talk                               1\n",
      "Brian Eno                               1\n",
      "Nina Simone                             1\n",
      "Stevie Wonder                           1\n",
      "Spiritualized                           1\n",
      "Talk Talk / Mark Hollis                 1\n",
      "Slint                                   1\n",
      "Bikini Kill                             1\n",
      "Kate Bush                               1\n",
      "Elliott Smith                           1\n",
      "Glenn Gould                             1\n",
      "Can                                     1\n",
      "Public Image Ltd                        1\n",
      "Kanye West                              1\n",
      "J Dilla                                 1\n",
      "The Band                                1\n",
      "Bob Dylan                               1\n",
      "Public Enemy                            1\n",
      "Talking Heads                           1\n",
      "Guns N' Roses                           1\n",
      "Michael Jackson                         1\n",
      "Alice Coltrane                          1\n",
      "Name: artist, Length: 62, dtype: int64\n",
      "                    Artist Albums\n",
      "0              The Beatles      7\n",
      "1   The Velvet Underground      3\n",
      "2                   Prince      3\n",
      "3                Radiohead      2\n",
      "4                Metallica      2\n",
      "5                  Nirvana      2\n",
      "6              David Bowie      2\n",
      "7                   Weezer      2\n",
      "8       The Rolling Stones      2\n",
      "9  Prince / The Revolution      2\n"
     ]
    },
    {
     "data": {
      "text/plain": [
       "[Text(0, 0, 'The Beatles'),\n",
       " Text(0, 0, 'The Velvet Underground'),\n",
       " Text(0, 0, 'Prince'),\n",
       " Text(0, 0, 'Radiohead'),\n",
       " Text(0, 0, 'Metallica'),\n",
       " Text(0, 0, 'Nirvana'),\n",
       " Text(0, 0, 'David Bowie'),\n",
       " Text(0, 0, 'Weezer'),\n",
       " Text(0, 0, 'The Rolling Stones'),\n",
       " Text(0, 0, 'Prince / The Revolution')]"
      ]
     },
     "execution_count": 17,
     "metadata": {},
     "output_type": "execute_result"
    },
    {
     "data": {
      "image/png": "[encoded data removed]",
      "text/plain": [
       "<Figure size 432x288 with 1 Axes>"
      ]
     },
     "metadata": {
      "needs_background": "light"
     },
     "output_type": "display_data"
    }
   ],
   "source": [
    "#Count the number of perfect scores by artist\n",
    "perf_counts = perfect['artist'].value_counts()\n",
    "print(perf_counts)\n",
    "\n",
    "perf_artists = perfect.artist.unique()\n",
    "#Create data frame with artists who have multiple perfect scores\n",
    "perf_multi = pd.DataFrame(data=None, index=None, columns=['Artist','Albums'])\n",
    "for i in range(len(perf_counts)):\n",
    "    if perf_counts.values[i] > 1:\n",
    "        perf_multi = perf_multi.append({'Artist' : perf_counts.index[i], 'Albums' : perf_counts.values[i]}, ignore_index=True)\n",
    "print(perf_multi)\n",
    "\n",
    "#Create bar graph of artists who have multiple perfect scores and the total perfect score per artist\n",
    "ax = sns.barplot(x=\"Artist\", y=\"Albums\", data=perf_multi)\n",
    "ax.set_xticklabels(ax.get_xticklabels(), rotation=80)"
   ]
  },
  {
   "cell_type": "code",
   "execution_count": null,
   "metadata": {},
   "outputs": [],
   "source": []
  },
  {
   "cell_type": "code",
   "execution_count": 18,
   "metadata": {},
   "outputs": [
    {
     "data": {
      "image/png": "[encoded data removed]",
      "text/plain": [
       "<Figure size 432x288 with 1 Axes>"
      ]
     },
     "metadata": {
      "needs_background": "light"
     },
     "output_type": "display_data"
    }
   ],
   "source": [
    "from os import path\n",
    "from PIL import Image\n",
    "from wordcloud import WordCloud, STOPWORDS, ImageColorGenerator\n",
    "\n",
    "\n",
    "# Start with one review:\n",
    "text = pitchfork_df.review[0]\n",
    "\n",
    "# Create and generate a word cloud image:\n",
    "wordcloud = WordCloud().generate(text)\n",
    "\n",
    "# Display the generated image:\n",
    "plt.imshow(wordcloud, interpolation='bilinear')\n",
    "plt.axis(\"off\")\n",
    "plt.show()\n",
    "\n",
    "\n"
   ]
  },
  {
   "cell_type": "markdown",
   "metadata": {},
   "source": [
    "# Feature Engineering"
   ]
  },
  {
   "cell_type": "code",
   "execution_count": 19,
   "metadata": {},
   "outputs": [],
   "source": [
    "import nltk\n",
    "from nltk.stem.porter import PorterStemmer\n",
    "\n",
    "def tokenizeStem(text):\n",
    "    tokens = nltk.word_tokenize(text)\n",
    "    stems = []\n",
    "    for item in tokens:\n",
    "        stems.append(PorterStemmer().stem(item))\n",
    "    return stems"
   ]
  },
  {
   "cell_type": "code",
   "execution_count": 20,
   "metadata": {},
   "outputs": [
    {
     "name": "stderr",
     "output_type": "stream",
     "text": [
      "[nltk_data] Downloading package punkt to\n",
      "[nltk_data]     /Users/johncrider/nltk_data...\n",
      "[nltk_data]   Package punkt is already up-to-date!\n"
     ]
    },
    {
     "data": {
      "text/plain": [
       "True"
      ]
     },
     "execution_count": 20,
     "metadata": {},
     "output_type": "execute_result"
    }
   ],
   "source": [
    "from sklearn.model_selection import train_test_split\n",
    "\n",
    "from sklearn.feature_extraction.text import TfidfVectorizer,  CountVectorizer,TfidfTransformer  \n",
    "from sklearn.model_selection import GridSearchCV  \n",
    "from sklearn.naive_bayes import MultinomialNB  \n",
    "\n",
    "from sklearn.pipeline import Pipeline  \n",
    "from time import time  \n",
    "from sklearn.svm import LinearSVC\n",
    "nltk.download('punkt')"
   ]
  },
  {
   "cell_type": "code",
   "execution_count": 26,
   "metadata": {},
   "outputs": [],
   "source": [
    "\n",
    "#Change the variable minisize while exploring.\n",
    "# smaller numbers like .05 can be used to speed\n",
    "# up processing (fewer number of documents used\n",
    "# from corpus). For final processing, minisze should\n",
    "# be set to 0.9999\n",
    "minisize = 0.9999\n",
    "\n",
    "X = pitchfork_df['review']\n",
    "y = pitchfork_df['rating']\n",
    "X_train, X_test, y_train, y_test = train_test_split(X, y,test_size=minisize, random_state=42)\n",
    "X_train_mini, X_test_mini, y_train_mini, y_test_mini = train_test_split(X_test, y_test,test_size=0.25)\n",
    "\n"
   ]
  },
  {
   "cell_type": "code",
   "execution_count": 27,
   "metadata": {},
   "outputs": [
    {
     "name": "stdout",
     "output_type": "stream",
     "text": [
      "done in 180.21343278884888s\n",
      "Pipeline(memory=None,\n",
      "     steps=[('vec', CountVectorizer(analyzer='word', binary=False, decode_error='strict',\n",
      "        dtype=<class 'numpy.int64'>, encoding='utf-8', input='content',\n",
      "        lowercase=True, max_df=0.5, max_features=700000, min_df=1,\n",
      "        ngram_range=(1, 3), preprocessor=None, stop_words=None,\n",
      "        stri...ax_iter=1000,\n",
      "     multi_class='ovr', penalty='l2', random_state=None, tol=0.0001,\n",
      "     verbose=0))])\n"
     ]
    }
   ],
   "source": [
    "#build pipeline for Support Vector Machine classifier\n",
    "t0 = time()  \n",
    "pipelineSVM = Pipeline([\n",
    "    ('vec', CountVectorizer(tokenizer=tokenizeStem, max_df=0.5, max_features=700000, min_df=1, ngram_range=(1,3))),\n",
    "    ('tfidf', TfidfTransformer()), \n",
    "    ('clf', LinearSVC())])\n",
    "pipelineSVM.fit(X_train_mini, y_train_mini)\n",
    "print(\"done in {0}s\".format(time() - t0))  \n",
    "print(pipelineSVM)"
   ]
  },
  {
   "cell_type": "markdown",
   "metadata": {},
   "source": [
    "# Modeling"
   ]
  },
  {
   "cell_type": "code",
   "execution_count": 28,
   "metadata": {},
   "outputs": [
    {
     "name": "stdout",
     "output_type": "stream",
     "text": [
      "done in 180.64982509613037s\n"
     ]
    }
   ],
   "source": [
    "#build pipeline for Naive-Bayes classifier\n",
    "t0 = time()  \n",
    "pipelineNB = Pipeline([\n",
    "    ('vec', CountVectorizer(tokenizer=tokenizeStem, max_df=0.5, max_features=700000, min_df=1, ngram_range=(1,3))),\n",
    "    ('tfidf', TfidfTransformer()), \n",
    "    ('clf', MultinomialNB(alpha=.05))])\n",
    "pipelineNB.fit(X_train_mini, y_train_mini)\n",
    "print(\"done in {0}s\".format(time() - t0))  "
   ]
  },
  {
   "cell_type": "code",
   "execution_count": 29,
   "metadata": {},
   "outputs": [
    {
     "name": "stdout",
     "output_type": "stream",
     "text": [
      "done in 400.4857180118561s\n"
     ]
    }
   ],
   "source": [
    "#build pipeline for Neural Network classifier\n",
    "t0 = time()  \n",
    "pipelineNN = Pipeline([\n",
    "    ('vec', CountVectorizer(tokenizer=tokenizeStem, max_df=0.5, max_features=700000, min_df=1, ngram_range=(1,3))),\n",
    "    ('tfidf', TfidfTransformer()), \n",
    "    ('clf', MLPClassifier(hidden_layer_sizes=(10,9)))])\n",
    "pipelineNN.fit(X_train_mini, y_train_mini)\n",
    "print(\"done in {0}s\".format(time() - t0))  "
   ]
  },
  {
   "cell_type": "markdown",
   "metadata": {},
   "source": [
    "# Evaluation"
   ]
  },
  {
   "cell_type": "code",
   "execution_count": 30,
   "metadata": {},
   "outputs": [
    {
     "name": "stdout",
     "output_type": "stream",
     "text": [
      "0.7518080210387903\n",
      "0.7067718606180144\n",
      "0.7481919789612097\n"
     ]
    }
   ],
   "source": [
    "# score for SVM\n",
    "print(pipelineSVM.score(X_test_mini, y_test_mini))\n",
    "# score for Naive-Bayes\n",
    "print(pipelineNB.score(X_test_mini, y_test_mini))\n",
    "# score for Nerual Networl\n",
    "print(pipelineNN.score(X_test_mini, y_test_mini))\n"
   ]
  },
  {
   "cell_type": "code",
   "execution_count": null,
   "metadata": {},
   "outputs": [],
   "source": []
  }
 ],
 "metadata": {
  "kernelspec": {
   "display_name": "Python 3",
   "language": "python",
   "name": "python3"
  },
  "language_info": {
   "codemirror_mode": {
    "name": "ipython",
    "version": 3
   },
   "file_extension": ".py",
   "mimetype": "text/x-python",
   "name": "python",
   "nbconvert_exporter": "python",
   "pygments_lexer": "ipython3",
   "version": "3.7.1"
  }
 },
 "nbformat": 4,
 "nbformat_minor": 2
}
