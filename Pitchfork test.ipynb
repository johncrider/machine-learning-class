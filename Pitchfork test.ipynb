{
 "cells": [
  {
   "cell_type": "markdown",
   "metadata": {},
   "source": [
    "# Sentinment Analysis on Pitchfork Album Reviews\n",
    "## John Crider\n",
    "## David Sanders\n",
    "## Brad Theodore\n",
    "###  Dr. Chengcheng Li\n",
    "### IT7071 - Machine Learning and Data Analytics\n",
    "#### 27 April 2019"
   ]
  },
  {
   "cell_type": "code",
   "execution_count": 1,
   "metadata": {},
   "outputs": [],
   "source": [
    "import pandas as pd\n",
    "import numpy as np\n",
    "import matplotlib\n",
    "from matplotlib import pyplot as plt\n",
    "import seaborn as sns\n",
    "\n",
    "from sklearn.neural_network import MLPClassifier\n",
    "%matplotlib inline"
   ]
  },
  {
   "cell_type": "markdown",
   "metadata": {},
   "source": [
    "# Abstract\n",
    "\n",
    "Pitchfork is a popular music website that offers content such as videos, news and reviews. The reviews are on a scale from 1 to 10, where 1 is the worst and 10 is the best. This scale makes it easy to view individual artists album’s score but not collectively all of the scores and certainly not collectively the sentiment of each review. The Goal of project was to be able to assess whether a review was positive or negative. We wanted to complete a beginning to end machine learning project. We set out create a data set by scraping all of the artist, albums and reviews scores from the past 10 years. We also a created a machine learning aspect and a model that can assess sentiment. A further step was taken where we ran the model through classifiers to test efficiency and accuracy.\n",
    "\n",
    "# Introduction\n",
    "\n",
    "This paper explores the use of support vector machines (SVM) to classify sentiment in online reviews. Artificial intelligence is a popular area of software research today. Businesses like Google and Facebook are using it to create competitive advantages. Research institutions are pushing the limits of the decision making and interpretive capabilities of computers. Artificial intelligence is a broad area of research which encompasses machine learning (ML) and deep learning - see Figure 1 from Dhande below. For the purposes of this paper, the authors will focus on statistical techniques (support vector machines, term frequency, document frequency) to build an AI model. Although deep learning modeling was considered as a potential classifier to be used, deep learning is not a main area of research.\n",
    " \n",
    "![title](Fig1.png)\n",
    "(Dhande 2017)\n",
    "Figure 1\n",
    "\n",
    "Sentiment analysis is an area of study that examines the ability of a computer to determine whether a document expresses a positive sentiment or a negative sentiment. For example, the short document “I like ice cream” would be considered positive, while the document “Leaving the beach makes me sad” would be considered negative. The approach our team took was to scrape reviews and ratings from a website to create our corpus of labeled documents. Using standard data cleanup techniques, we prepared the data to be analyzed. Our model was built from the cleaned training data using an SVM. Once the model was created, we could use test data with known sentiments to determine how well the model determined sentiment. In addition to the machine learning techniques used, the team also employed data analytical techniques to further breakdown the data and develop a full story of what insights could be gained from the data. This was done by studying the data as it was presenting and drilling down further in to points of interest or results that would contrast what our initial instincts would be. We looked at what we found in the data compared against what we would have expected to display those findings we found interesting in graphs and different displays in order to better understand the sentiments that were found in our machine learning algorithm. In the following pages you will find the methodology we used to in the experiment, an explanation of how the data was gathered, details on the experiments performed, and the results that were gathered. \n",
    "\n",
    "![title](Fig2.png)\n",
    "Figure 2\n",
    "\n",
    "# Methodology\n",
    "\n",
    "Approach to sentiment analysis used a multistep process leveraging python and Jupyter notebooks as the main tools. Additionally, prebuilt python libraries were used to take advantage prebuilt visualization routines, statistical routines and mathematical routines.\n",
    "\n",
    "The methodology to determine sentiments occurred in the following stages: 1 - Gather data, 2 - Text Preprocessing, 3 - Exploratory Data Analysis, 4 - Feature Engineering, 5 - Modeling, 6 - Evaluation. See Figure 3 as illustrated by Sarkar (2018)\n",
    " \n",
    "![title](Fig3.png)\n",
    "Figure 3\n",
    "\n",
    "## Gather Data\n",
    "\n",
    "Reviews were gathered from the web site Pitchfork using the BeautifulSoup library for python. Pitchfork is a music website that offers content such as videos, news and reviews.  BeautifulSoup allows a programmer to download web pages into python data structures (BeautifulSoup 2019). The process to walk through websites (especially when gathering data) is called crawling. Since the crawling process can be time consuming and as a courtesy to website owners, once the data was gathered, we wrote the contents to a file so that it could be used repeatedly in the application without  having to crawl the website again. We looked to gather 10 years’ worth of album review data from the website. Crawling was done on a per-review-page basis, with each page containing around 15 album reviews. To get the 10 years of data that we desired, we needed to collect 1,016 pages worth of album reviews. We found that it took ~30 seconds to collect data from two pages using the data collection script that we developed and estimated that it would take ~4 hours to gather the full data set. After attempting to run against the 1,016 album review pages, we continually experienced a timeout a few hours in that would halt the entire script. After a few failed attempted of this nature, we decided to split the collection in to four pieces, gather smaller parts of the entire dataset that we could then aggregate in to a single collection. Each of the smaller data collection runs completed successfully in about one and a half hours. In total we were able to collect over 12,000 album reviews along with the artist name, album name, review score, genre, review date, and a count of times the word “best” appeared in the review. \n",
    "\n",
    "## Text Preprocessing\n",
    "\n",
    "In order to build accurate sentiment analysis, the text of the documents must be cleaned and prepared for analysis and processing (Haddi, Liu and Shi 2013). When cleaning data in a document, one must first consider what will be considered valid words for the computer to analyze. For example, it is common to remove punctuation like quotations marks, dollar signs, periods, etc. It is also common to change the case of all characters to lowercase. Consider a document that contains “I liked the music’s beat. It was a beat I could dance to.” After we clean the data the document would look like this: “i liked the music’s beat it was a beat i could dance to”. Notice that now each occurrence of the word beat looks identical. This is important for the next step when we do frequency counts on the words.\n",
    "\n",
    "## Exploratory Data Analysis\n",
    "\n",
    "We wanted to understand the data we were going to analyze. This is a challenging task given the large volume of documents that were to be analyzed. Many researchers will look at attributes of the corpus of data to be analyzed to better understand their documents. Reading a few documents can provide some level of understanding, but it does not provide a breadth of understanding.\n",
    "\n",
    "We looked at several pieces of preliminary analysis to gain a wider understanding of our data. This analysis included word clouds, word counts per document, distribution of word counts among documents, and several others.\n",
    "\n",
    "## Feature Engineering\n",
    "\n",
    "We split our full corpus of documents into a training set to train our model and a testing set to test the accuracy of the model. It is common for researchers to hold back 20% - 30% of their labeled data to test their models  (Samal, Behera, Panda 2017). We used the test_train_split routine in python in order to get a random slice of the data for both training and testing. One advantage of using this method is that even though it is random, a seed can be provided so that the same random choices are made with every run.\n",
    "\n",
    "## Modeling\n",
    "\n",
    "We built our model using a Support Vector Machine (SVM) based matrices created from a TF-IDF vectorization process. SVMs are commonly used to take data sets with high dimensionality, as can be found in the sparse matrices produced by TF-IDF and create a hyperplane to separate them (Berwick and Idiot n.d.). The hyperplane that separates your data is defined by a function with one less dimension than the data. For example, data in 2 dimensions has a hyperplane that is a line. If the data is represented in 6 dimensions, then the function separating the data will be a function that is in 5 dimensions.\n",
    "\n",
    "## Evaluation\n",
    "\n",
    "The model was tested using the testing data provided to a scoring function from python for the SVM classifier. When the score function is passed a set of test data X and the correct label vector y, it will return the accuracy score that the model produces for that test data.\n"
   ]
  },
  {
   "cell_type": "markdown",
   "metadata": {},
   "source": [
    "# Data Acquisition\n",
    "\n",
    "Reviews were gathered from the web site Pitchfork using the code below. Since the crawling process can be time consuming and as a courtesy to website owners, once the data was gathered, we wrote the contents to a file so that it could be used repeatedly in the application without  having to crawl the website again. Crawling was done on a per-review-page basis, with each page containing around 15 album reviews. To get the 10 years of data that we desired, we needed to collect 1,016 pages worth of album reviews. To make the process more manageable and to avoid disruptions causing a complete loss of data collected, we decided to split the collection in to four pieces, and gather smaller parts of the entire dataset that we could then aggregate in to a single collection. Each of the smaller data collection runs completed successfully in about one and a half hours. In total we were able to collect over 12,000 album reviews along with the artist name, album name, review score, genre, review date, and a count of times the word “best” appeared in the review. "
   ]
  },
  {
   "cell_type": "code",
   "execution_count": 2,
   "metadata": {},
   "outputs": [],
   "source": [
    "from bs4 import BeautifulSoup\n",
    "import requests\n",
    "import datetime as dt"
   ]
  },
  {
   "cell_type": "code",
   "execution_count": 3,
   "metadata": {},
   "outputs": [],
   "source": [
    "def gather_links(pages, startPage):\n",
    "    pageList = [] #list of album review pages\n",
    "    linkList = [] #list of album links\n",
    "    for x in range(startPage,(startPage+pages)): #check the first n pages after the requested one\n",
    "        pageList.append(requests.get(\"https://pitchfork.com/reviews/albums/?page=\" + str(x))) #add each page to list\n",
    "    for page in pageList:\n",
    "        soup = BeautifulSoup(page.content, 'html.parser') #parse its contents\n",
    "        links = soup.find_all(class_=\"review__link\") #gather its links (in raw html)\n",
    "        for link in links: #for each link\n",
    "            linkList.append(link.get('href')) #append only the link itself\n",
    "    return linkList\n",
    "\n",
    "def gather_info(album_link):\n",
    "    page = requests.get(\"https://pitchfork.com\" + album_link) #request URL\n",
    "    soup = BeautifulSoup(page.content, 'html.parser') #parse with beautifulsoup\n",
    "    title = str(soup.find('title').string) #album and artist \n",
    "    try:\n",
    "        score = float((soup.find(class_=\"score\").string)) #score\n",
    "    except AttributeError:\n",
    "        score = None\n",
    "    try:\n",
    "        genre = soup.find(class_=\"genre-list__link\").string #genre\n",
    "    except AttributeError:\n",
    "        genre = None\n",
    "    sents = [element.text for element in soup.find_all('p')] #cleaned text output\n",
    "    string = \" \".join(sents)\n",
    "    try:\n",
    "        date = str(soup.find(class_=\"pub-date\").string) #date\n",
    "    except AttributeError:\n",
    "        date = None\n",
    "    #create dataframe with column labels\n",
    "    d = {'artist': [get_artist(title)], 'album': [get_album(title)], 'score': [score], 'genre': [genre], 'review': [string], 'best': [1 if \"Best new\" in string else 0], 'date': [date]}\n",
    "    df = pd.DataFrame(data=d)\n",
    "    return df\n",
    "\n",
    "def get_artist(title):\n",
    "    str = ''\n",
    "    for character in title: #for each character in title\n",
    "        #add to string up until ':' \n",
    "        if character is not ':':\n",
    "            str += character\n",
    "        else:\n",
    "            break\n",
    "    return str\n",
    "\n",
    "def get_album(title):\n",
    "    str = ''\n",
    "    #find ':' and index and start there\n",
    "    index = title.find(\":\")\n",
    "    title = title[index+2:]\n",
    "    #for each character afterwards, add it until '|'\n",
    "    for character in title:\n",
    "        if character is '|':\n",
    "            break\n",
    "        else:\n",
    "            str +=character\n",
    "    return str[:-14] #return just the title\n",
    "\n",
    "def gather(pages, startPage, fileLocation, fileName):\n",
    "    linkList = gather_links(pages, startPage) #gather links\n",
    "    first = True #special variable for first scrape\n",
    "    newDF = pd.DataFrame()\n",
    "    for link in linkList: #for each link\n",
    "        data = gather_info(link) #gather info\n",
    "        #if first, newDF becomes the initial dataframe\n",
    "        if first:\n",
    "            newDF = data\n",
    "            first = False\n",
    "        #otherwise append it\n",
    "        else:\n",
    "            newDF = newDF.append(data, ignore_index = True)\n",
    "    #when scraping complete, export to .csv \n",
    "    newDF.to_csv(path_or_buf = fileLocation + \"/\" + fileName + \".csv\")\n",
    "    #return true if gather was successful\n",
    "    return True"
   ]
  },
  {
   "cell_type": "code",
   "execution_count": 4,
   "metadata": {},
   "outputs": [],
   "source": [
    "# Since data has been scraped once and put into CSV,\n",
    "# we commented out this section to scrape from the website.\n",
    "# It takes over 5 hours to run.\n",
    "\n",
    "# start = dt.datetime.now()\n",
    "# gather(254, 1, \"C:\\\\Users\\\\sanderdv\\\\OneDrive - University of Cincinnati\\\\School\\\\Second Year\\\\Spring 2019\\\\Machine Learning and Data Analytics\\\\Project\", \"pitchfork1\")\n",
    "# print(str(dt.datetime.now()-start))\n",
    "\n",
    "# start = dt.datetime.now()\n",
    "# gather(254, 255, \"C:\\\\Users\\\\sanderdv\\\\OneDrive - University of Cincinnati\\\\School\\\\Second Year\\\\Spring 2019\\\\Machine Learning and Data Analytics\\\\Project\", \"pitchfork2\")\n",
    "# print(str(dt.datetime.now()-start))\n",
    "\n",
    "# start = dt.datetime.now()\n",
    "# gather(254, 509, \"C:\\\\Users\\\\sanderdv\\\\OneDrive - University of Cincinnati\\\\School\\\\Second Year\\\\Spring 2019\\\\Machine Learning and Data Analytics\\\\Project\", \"pitchfork3\")\n",
    "# print(str(dt.datetime.now()-start))\n",
    "\n",
    "# start = dt.datetime.now()\n",
    "# gather(254, 763, \"C:\\\\Users\\\\sanderdv\\\\OneDrive - University of Cincinnati\\\\School\\\\Second Year\\\\Spring 2019\\\\Machine Learning and Data Analytics\\\\Project\", \"pitchfork4\")\n",
    "# print(str(dt.datetime.now()-start))\n"
   ]
  },
  {
   "cell_type": "markdown",
   "metadata": {},
   "source": [
    "# Text Preprocessing"
   ]
  },
  {
   "cell_type": "code",
   "execution_count": 5,
   "metadata": {},
   "outputs": [
    {
     "name": "stdout",
     "output_type": "stream",
     "text": [
      "(12168, 9)\n"
     ]
    }
   ],
   "source": [
    "# load the pitchfork_df from the CSV\n",
    "pitchfork_df = pd.read_csv('pitchfork1.csv')\n",
    "pitchfork_df=pitchfork_df.append(pd.read_csv('pitchfork2.csv'))\n",
    "pitchfork_df=pitchfork_df.append(pd.read_csv('pitchfork3.csv'))\n",
    "pitchfork_df=pitchfork_df.append(pd.read_csv('pitchfork4.csv'))\n",
    "pitchfork_df = pitchfork_df.reset_index()\n",
    "print(pitchfork_df.shape)"
   ]
  },
  {
   "cell_type": "code",
   "execution_count": 6,
   "metadata": {},
   "outputs": [],
   "source": [
    "# Replace missing values\n",
    "pitchfork_df.head()\n",
    "values = {'score':-1}\n",
    "pitchfork_df = pitchfork_df.fillna(value=values)\n",
    "#pitchfork_df['score'].values\n",
    "misc = {'genre':'Misc'}\n",
    "pitchfork_df = pitchfork_df.fillna(value=misc)"
   ]
  },
  {
   "cell_type": "code",
   "execution_count": 7,
   "metadata": {},
   "outputs": [],
   "source": [
    "def cleanReview(stringToClean):\n",
    "    return prepStringForProcessing(stringToClean)\n",
    "\n",
    "from nltk.corpus import stopwords\n",
    "import string\n",
    "stop_words = set(stopwords.words('english'))\n",
    "table = str.maketrans('', '', string.punctuation)\n",
    "\n",
    "def prepStringForProcessing(inputString):\n",
    "    # this code cleans a string. It takes\n",
    "    # a string and removes the puncuation \n",
    "    # from the string. The cleaned string \n",
    "    # is returned\n",
    "    \n",
    "    # remove puncuation\n",
    "    outputString = inputString.replace(',','')\n",
    "    outputString = outputString.replace('.','')\n",
    "    outputString = outputString.replace(':','')\n",
    "    outputString = outputString.replace(';','')\n",
    "    outputString = outputString.replace('@','')\n",
    "    outputString = outputString.replace('\"','')\n",
    "    outputString = outputString.replace(\"'\",\"\")\n",
    "    outputString = outputString.replace('?','')\n",
    "    outputString = outputString.replace('!','')\n",
    "    outputString = outputString.replace('#','')\n",
    "    outputString = outputString.replace('%','')\n",
    "    outputString = outputString.replace('&','')\n",
    "    outputString = outputString.replace('$','')\n",
    "    outputString = outputString.replace('^','')\n",
    "    outputString = outputString.replace('*','')\n",
    "    outputString = outputString.replace('(','')\n",
    "    outputString = outputString.replace(')','')\n",
    "    outputString = outputString.replace('!','')\n",
    "    outputString = outputString.replace('-','')\n",
    "    \n",
    "    # split into words\n",
    "    from nltk.tokenize import word_tokenize\n",
    "    tokens = word_tokenize(inputString)\n",
    "    \n",
    "    # convert to lower case\n",
    "    tokens = [w.lower() for w in tokens]\n",
    "        \n",
    "    # Remove Punctuation\n",
    "    stripped = [w.translate(table) for w in tokens]\n",
    "    \n",
    "    # remove remaining tokens that are not alphabetic\n",
    "    words = [word for word in stripped if word.isalpha()]\n",
    "    \n",
    "    # filter out stop words\n",
    "    words = [w for w in words if not w in stop_words]\n",
    "    \n",
    "    # reassemble string\n",
    "    outputString = ' '.join(words)\n",
    "    \n",
    "\n",
    "    return outputString;\n"
   ]
  },
  {
   "cell_type": "code",
   "execution_count": 8,
   "metadata": {},
   "outputs": [
    {
     "name": "stderr",
     "output_type": "stream",
     "text": [
      "/Users/johncrider/anaconda3/lib/python3.7/site-packages/ipykernel_launcher.py:2: SettingWithCopyWarning: \n",
      "A value is trying to be set on a copy of a slice from a DataFrame\n",
      "\n",
      "See the caveats in the documentation: http://pandas.pydata.org/pandas-docs/stable/indexing.html#indexing-view-versus-copy\n",
      "  \n"
     ]
    }
   ],
   "source": [
    "for i in range(0,len(pitchfork_df)-1):\n",
    "    pitchfork_df['review'][i] = cleanReview(pitchfork_df['review'][i])"
   ]
  },
  {
   "cell_type": "markdown",
   "metadata": {},
   "source": [
    "# Exploratory Analysis"
   ]
  },
  {
   "cell_type": "code",
   "execution_count": 9,
   "metadata": {},
   "outputs": [
    {
     "name": "stderr",
     "output_type": "stream",
     "text": [
      "/Users/johncrider/anaconda3/lib/python3.7/site-packages/scipy/stats/stats.py:1713: FutureWarning: Using a non-tuple sequence for multidimensional indexing is deprecated; use `arr[tuple(seq)]` instead of `arr[seq]`. In the future this will be interpreted as an array index, `arr[np.array(seq)]`, which will result either in an error or a different result.\n",
      "  return np.add.reduce(sorted[indexer] * weights, axis=axis) / sumval\n"
     ]
    },
    {
     "data": {
      "text/plain": [
       "<matplotlib.axes._subplots.AxesSubplot at 0x1a263e7b00>"
      ]
     },
     "execution_count": 9,
     "metadata": {},
     "output_type": "execute_result"
    },
    {
     "data": {
      "image/png": "[encoded data removed]",
      "text/plain": [
       "<Figure size 432x288 with 1 Axes>"
      ]
     },
     "metadata": {
      "needs_background": "light"
     },
     "output_type": "display_data"
    }
   ],
   "source": [
    "#Get histogram of scores\n",
    "sns.distplot(pitchfork_df['score'].values)"
   ]
  },
  {
   "cell_type": "code",
   "execution_count": 10,
   "metadata": {},
   "outputs": [
    {
     "name": "stdout",
     "output_type": "stream",
     "text": [
      "1.1352786888290622\n",
      "7.090154503616042\n"
     ]
    }
   ],
   "source": [
    "print(np.std(pitchfork_df['score'].values))\n",
    "print(np.mean(pitchfork_df['score'].values))"
   ]
  },
  {
   "cell_type": "code",
   "execution_count": 11,
   "metadata": {},
   "outputs": [
    {
     "data": {
      "text/html": [
       "<div>\n",
       "<style scoped>\n",
       "    .dataframe tbody tr th:only-of-type {\n",
       "        vertical-align: middle;\n",
       "    }\n",
       "\n",
       "    .dataframe tbody tr th {\n",
       "        vertical-align: top;\n",
       "    }\n",
       "\n",
       "    .dataframe thead th {\n",
       "        text-align: right;\n",
       "    }\n",
       "</style>\n",
       "<table border=\"1\" class=\"dataframe\">\n",
       "  <thead>\n",
       "    <tr style=\"text-align: right;\">\n",
       "      <th></th>\n",
       "      <th>index</th>\n",
       "      <th>Unnamed: 0</th>\n",
       "      <th>artist</th>\n",
       "      <th>album</th>\n",
       "      <th>score</th>\n",
       "      <th>genre</th>\n",
       "      <th>review</th>\n",
       "      <th>best</th>\n",
       "      <th>date</th>\n",
       "    </tr>\n",
       "  </thead>\n",
       "  <tbody>\n",
       "    <tr>\n",
       "      <th>0</th>\n",
       "      <td>0</td>\n",
       "      <td>0</td>\n",
       "      <td>Laurel Halo</td>\n",
       "      <td>DJ-Kicks</td>\n",
       "      <td>7.7</td>\n",
       "      <td>Electronic</td>\n",
       "      <td>first commercial mix album producer crafts unb...</td>\n",
       "      <td>0</td>\n",
       "      <td>11 hrs ago</td>\n",
       "    </tr>\n",
       "    <tr>\n",
       "      <th>1</th>\n",
       "      <td>1</td>\n",
       "      <td>1</td>\n",
       "      <td>Prefab Sprout</td>\n",
       "      <td>I Trawl the Megahertz</td>\n",
       "      <td>8.5</td>\n",
       "      <td>Electronic</td>\n",
       "      <td>best new reissue lost prefab sprout album prev...</td>\n",
       "      <td>1</td>\n",
       "      <td>11 hrs ago</td>\n",
       "    </tr>\n",
       "    <tr>\n",
       "      <th>2</th>\n",
       "      <td>2</td>\n",
       "      <td>2</td>\n",
       "      <td>USA/Mexico</td>\n",
       "      <td>Matamoros</td>\n",
       "      <td>7.3</td>\n",
       "      <td>Rock</td>\n",
       "      <td>usamexico sludgy nasty unclassifiable meaning ...</td>\n",
       "      <td>0</td>\n",
       "      <td>11 hrs ago</td>\n",
       "    </tr>\n",
       "    <tr>\n",
       "      <th>3</th>\n",
       "      <td>3</td>\n",
       "      <td>3</td>\n",
       "      <td>Tamaryn</td>\n",
       "      <td>Dreaming in the Dark</td>\n",
       "      <td>6.5</td>\n",
       "      <td>Rock</td>\n",
       "      <td>new album tamaryn aims skyhigh melodrama first...</td>\n",
       "      <td>0</td>\n",
       "      <td>11 hrs ago</td>\n",
       "    </tr>\n",
       "    <tr>\n",
       "      <th>4</th>\n",
       "      <td>4</td>\n",
       "      <td>4</td>\n",
       "      <td>Nilüfer Yanya</td>\n",
       "      <td>Miss Universe</td>\n",
       "      <td>8.3</td>\n",
       "      <td>Pop/R&amp;B</td>\n",
       "      <td>best new music rapturous debut british singers...</td>\n",
       "      <td>1</td>\n",
       "      <td>March 22 2019</td>\n",
       "    </tr>\n",
       "  </tbody>\n",
       "</table>\n",
       "</div>"
      ],
      "text/plain": [
       "   index  Unnamed: 0         artist                  album  score       genre  \\\n",
       "0      0           0    Laurel Halo               DJ-Kicks    7.7  Electronic   \n",
       "1      1           1  Prefab Sprout  I Trawl the Megahertz    8.5  Electronic   \n",
       "2      2           2     USA/Mexico              Matamoros    7.3        Rock   \n",
       "3      3           3        Tamaryn   Dreaming in the Dark    6.5        Rock   \n",
       "4      4           4  Nilüfer Yanya          Miss Universe    8.3     Pop/R&B   \n",
       "\n",
       "                                              review  best           date  \n",
       "0  first commercial mix album producer crafts unb...     0     11 hrs ago  \n",
       "1  best new reissue lost prefab sprout album prev...     1     11 hrs ago  \n",
       "2  usamexico sludgy nasty unclassifiable meaning ...     0     11 hrs ago  \n",
       "3  new album tamaryn aims skyhigh melodrama first...     0     11 hrs ago  \n",
       "4  best new music rapturous debut british singers...     1  March 22 2019  "
      ]
     },
     "execution_count": 11,
     "metadata": {},
     "output_type": "execute_result"
    }
   ],
   "source": [
    "pitchfork_df.head()"
   ]
  },
  {
   "cell_type": "code",
   "execution_count": 12,
   "metadata": {},
   "outputs": [],
   "source": [
    "# I picked 7.0 as an arbitrary cutoff between good and bad.\n",
    "\n",
    "pitchfork_df['rating'] = np.where(pitchfork_df['score']>7.0,1,0)"
   ]
  },
  {
   "cell_type": "code",
   "execution_count": 13,
   "metadata": {},
   "outputs": [
    {
     "data": {
      "text/html": [
       "<div>\n",
       "<style scoped>\n",
       "    .dataframe tbody tr th:only-of-type {\n",
       "        vertical-align: middle;\n",
       "    }\n",
       "\n",
       "    .dataframe tbody tr th {\n",
       "        vertical-align: top;\n",
       "    }\n",
       "\n",
       "    .dataframe thead th {\n",
       "        text-align: right;\n",
       "    }\n",
       "</style>\n",
       "<table border=\"1\" class=\"dataframe\">\n",
       "  <thead>\n",
       "    <tr style=\"text-align: right;\">\n",
       "      <th></th>\n",
       "      <th>index</th>\n",
       "      <th>Unnamed: 0</th>\n",
       "      <th>artist</th>\n",
       "      <th>album</th>\n",
       "      <th>score</th>\n",
       "      <th>genre</th>\n",
       "      <th>review</th>\n",
       "      <th>best</th>\n",
       "      <th>date</th>\n",
       "      <th>rating</th>\n",
       "    </tr>\n",
       "  </thead>\n",
       "  <tbody>\n",
       "    <tr>\n",
       "      <th>0</th>\n",
       "      <td>0</td>\n",
       "      <td>0</td>\n",
       "      <td>Laurel Halo</td>\n",
       "      <td>DJ-Kicks</td>\n",
       "      <td>7.7</td>\n",
       "      <td>Electronic</td>\n",
       "      <td>first commercial mix album producer crafts unb...</td>\n",
       "      <td>0</td>\n",
       "      <td>11 hrs ago</td>\n",
       "      <td>1</td>\n",
       "    </tr>\n",
       "    <tr>\n",
       "      <th>1</th>\n",
       "      <td>1</td>\n",
       "      <td>1</td>\n",
       "      <td>Prefab Sprout</td>\n",
       "      <td>I Trawl the Megahertz</td>\n",
       "      <td>8.5</td>\n",
       "      <td>Electronic</td>\n",
       "      <td>best new reissue lost prefab sprout album prev...</td>\n",
       "      <td>1</td>\n",
       "      <td>11 hrs ago</td>\n",
       "      <td>1</td>\n",
       "    </tr>\n",
       "    <tr>\n",
       "      <th>2</th>\n",
       "      <td>2</td>\n",
       "      <td>2</td>\n",
       "      <td>USA/Mexico</td>\n",
       "      <td>Matamoros</td>\n",
       "      <td>7.3</td>\n",
       "      <td>Rock</td>\n",
       "      <td>usamexico sludgy nasty unclassifiable meaning ...</td>\n",
       "      <td>0</td>\n",
       "      <td>11 hrs ago</td>\n",
       "      <td>1</td>\n",
       "    </tr>\n",
       "    <tr>\n",
       "      <th>3</th>\n",
       "      <td>3</td>\n",
       "      <td>3</td>\n",
       "      <td>Tamaryn</td>\n",
       "      <td>Dreaming in the Dark</td>\n",
       "      <td>6.5</td>\n",
       "      <td>Rock</td>\n",
       "      <td>new album tamaryn aims skyhigh melodrama first...</td>\n",
       "      <td>0</td>\n",
       "      <td>11 hrs ago</td>\n",
       "      <td>0</td>\n",
       "    </tr>\n",
       "    <tr>\n",
       "      <th>4</th>\n",
       "      <td>4</td>\n",
       "      <td>4</td>\n",
       "      <td>Nilüfer Yanya</td>\n",
       "      <td>Miss Universe</td>\n",
       "      <td>8.3</td>\n",
       "      <td>Pop/R&amp;B</td>\n",
       "      <td>best new music rapturous debut british singers...</td>\n",
       "      <td>1</td>\n",
       "      <td>March 22 2019</td>\n",
       "      <td>1</td>\n",
       "    </tr>\n",
       "  </tbody>\n",
       "</table>\n",
       "</div>"
      ],
      "text/plain": [
       "   index  Unnamed: 0         artist                  album  score       genre  \\\n",
       "0      0           0    Laurel Halo               DJ-Kicks    7.7  Electronic   \n",
       "1      1           1  Prefab Sprout  I Trawl the Megahertz    8.5  Electronic   \n",
       "2      2           2     USA/Mexico              Matamoros    7.3        Rock   \n",
       "3      3           3        Tamaryn   Dreaming in the Dark    6.5        Rock   \n",
       "4      4           4  Nilüfer Yanya          Miss Universe    8.3     Pop/R&B   \n",
       "\n",
       "                                              review  best           date  \\\n",
       "0  first commercial mix album producer crafts unb...     0     11 hrs ago   \n",
       "1  best new reissue lost prefab sprout album prev...     1     11 hrs ago   \n",
       "2  usamexico sludgy nasty unclassifiable meaning ...     0     11 hrs ago   \n",
       "3  new album tamaryn aims skyhigh melodrama first...     0     11 hrs ago   \n",
       "4  best new music rapturous debut british singers...     1  March 22 2019   \n",
       "\n",
       "   rating  \n",
       "0       1  \n",
       "1       1  \n",
       "2       1  \n",
       "3       0  \n",
       "4       1  "
      ]
     },
     "execution_count": 13,
     "metadata": {},
     "output_type": "execute_result"
    }
   ],
   "source": [
    "#show new column 'rating'\n",
    "pitchfork_df.head()"
   ]
  },
  {
   "cell_type": "code",
   "execution_count": 14,
   "metadata": {},
   "outputs": [
    {
     "name": "stdout",
     "output_type": "stream",
     "text": [
      "['Electronic' 'Rock' 'Pop/R&B' 'Rap' 'Jazz' 'Experimental' 'Metal'\n",
      " 'Folk/Country' 'Misc' 'Global']\n",
      "genre\n",
      "Electronic      5.864384\n",
      "Experimental    6.721053\n",
      "Folk/Country    6.766000\n",
      "Global          7.276667\n",
      "Jazz            7.553846\n",
      "Metal           6.570909\n",
      "Misc            5.971875\n",
      "Pop/R&B         6.389062\n",
      "Rap             5.997183\n",
      "Rock            5.890000\n",
      "Name: score, dtype: float64\n"
     ]
    },
    {
     "data": {
      "image/png": "[encoded data removed]",
      "text/plain": [
       "<Figure size 432x288 with 1 Axes>"
      ]
     },
     "metadata": {
      "needs_background": "light"
     },
     "output_type": "display_data"
    }
   ],
   "source": [
    "#order by score from high to low\n",
    "ranked = pitchfork_df.sort_values(by='score', ascending=False)\n",
    "\n",
    "#show top 50 scores\n",
    "ranked.head(50)\n",
    "\n",
    "#find all unique genres\n",
    "genres = pitchfork_df.genre.unique()\n",
    "print(genres)\n",
    "\n",
    "#Create line graph of scores by genre\n",
    "ranked.groupby(['score','genre']).size().unstack(fill_value=0).plot()\n",
    "\n",
    "#Create list with the average album score by genre\n",
    "avg_score = ranked.groupby(['genre'])['score'].agg(lambda x: x.unique().mean())\n",
    "print(avg_score)"
   ]
  },
  {
   "cell_type": "code",
   "execution_count": 15,
   "metadata": {},
   "outputs": [
    {
     "data": {
      "text/plain": [
       "<matplotlib.collections.PathCollection at 0x1a268e9198>"
      ]
     },
     "execution_count": 15,
     "metadata": {},
     "output_type": "execute_result"
    },
    {
     "data": {
      "image/png": "[encoded data removed]",
      "text/plain": [
       "<Figure size 432x288 with 1 Axes>"
      ]
     },
     "metadata": {
      "needs_background": "light"
     },
     "output_type": "display_data"
    }
   ],
   "source": [
    "#Create scatter plot of average score by genre\n",
    "plt.title(\"Average Score by Genre\") #add title\n",
    "\n",
    "plt.xlim(left=5, right=9) #set table start and end values\n",
    "\n",
    "plt.xlabel(\"Averages\") #add x-axis label\n",
    "\n",
    "plt.grid(b=True, which='major', axis='both') #add grid lines\n",
    "\n",
    "plt.scatter(avg_score[:],avg_score.index)"
   ]
  },
  {
   "cell_type": "code",
   "execution_count": 16,
   "metadata": {},
   "outputs": [
    {
     "name": "stdout",
     "output_type": "stream",
     "text": [
      "(79, 10)\n",
      "      index Unnamed: 0                                artist  \\\n",
      "176     176        176                        Alice Coltrane   \n",
      "239     239        239                             Talk Talk   \n",
      "456     456        456                         Talking Heads   \n",
      "490     490        490                           Bikini Kill   \n",
      "556     556        556                            De La Soul   \n",
      "581     581        581                             PJ Harvey   \n",
      "916     916        916                              The Band   \n",
      "942     942        942                                  Hole   \n",
      "1057   1057       1057                             Liz Phair   \n",
      "1070   1070       1070  Captain Beefheart and His Magic Band   \n",
      "1224   1224       1224                     Bruce Springsteen   \n",
      "1543   1543       1543                             Metallica   \n",
      "1683   1683       1683                            The Smiths   \n",
      "2035   2035       2035                         Guns N' Roses   \n",
      "2095   2095       2095               Prince / The Revolution   \n",
      "2109   2109       2109                             Radiohead   \n",
      "2177   2177       2177                      Ghostface Killah   \n",
      "2431   2431       2431                           Glenn Gould   \n",
      "2493   2493       2493                  The Notorious B.I.G.   \n",
      "2499   2499       2499                         Elliott Smith   \n",
      "2533   2533       2533                                Weezer   \n",
      "2612   2612       2612                                 Björk   \n",
      "2691   2691       2691                            X-Ray Spex   \n",
      "2907   2907       2907                      Public Image Ltd   \n",
      "2916   2916       2916                             Bob Dylan   \n",
      "3071     23         23                             Brian Eno   \n",
      "3167    119        119                         Stevie Wonder   \n",
      "3246    198        198                           Nina Simone   \n",
      "3370    322        322                            Neil Young   \n",
      "3422    374        374                             Kate Bush   \n",
      "...     ...        ...                                   ...   \n",
      "7359   1263       1263                         Fleetwood Mac   \n",
      "7419   1323       1323                                   Nas   \n",
      "7444   1348       1348                               J Dilla   \n",
      "7509   1413       1413                              D’Angelo   \n",
      "7584   1488       1488                      William Basinski   \n",
      "7969   1873       1873                                   GZA   \n",
      "8214   2118       2118                   My Bloody Valentine   \n",
      "8683   2587       2587                                   Can   \n",
      "8809   2713       2713                        The Beach Boys   \n",
      "8849   2753       2753               Talk Talk / Mark Hollis   \n",
      "8939   2843       2843                               Nirvana   \n",
      "9790    646        646                The Dismemberment Plan   \n",
      "9885    741        741                            Kanye West   \n",
      "9950    806        806                                Weezer   \n",
      "10430  1286       1286                              The Cure   \n",
      "10505  1361       1361                    The Rolling Stones   \n",
      "10765  1621       1621                              Pavement   \n",
      "10785  1641       1641                         Spiritualized   \n",
      "11310  2166       2166                       The Stone Roses   \n",
      "11313  2169       2169                           The Beatles   \n",
      "11315  2171       2171                           The Beatles   \n",
      "11317  2173       2173                           The Beatles   \n",
      "11318  2174       2174                           The Beatles   \n",
      "11319  2175       2175                           The Beatles   \n",
      "11320  2176       2176                           The Beatles   \n",
      "11326  2182       2182                           The Beatles   \n",
      "11371  2227       2227                             Radiohead   \n",
      "11531  2387       2387                                R.E.M.   \n",
      "11875  2731       2731                      Serge Gainsbourg   \n",
      "12016  2872       2872                          Beastie Boys   \n",
      "\n",
      "                                                   album  score         genre  \\\n",
      "176                             Journey in Satchidananda   10.0          Jazz   \n",
      "239                                       Spirit of Eden   10.0          Rock   \n",
      "456                                      Remain in Light   10.0          Rock   \n",
      "490                                          The Singles   10.0          Rock   \n",
      "556                               3 Feet High and Rising   10.0           Rap   \n",
      "581                                            Rid of Me   10.0          Rock   \n",
      "916                                             The Band   10.0          Rock   \n",
      "942                                    Live Through This   10.0          Rock   \n",
      "1057   Girly-Sound to Guyville: The 25th Anniversary ...   10.0          Rock   \n",
      "1070                                  Trout Mask Replica   10.0  Experimental   \n",
      "1224                                            Nebraska   10.0          Rock   \n",
      "1543                                   Master of Puppets   10.0         Metal   \n",
      "1683                                   The Queen Is Dead   10.0          Rock   \n",
      "2035                            Appetite for Destruction   10.0          Rock   \n",
      "2095               Purple Rain Deluxe — Expanded Edition   10.0       Pop/R&B   \n",
      "2109                       OK Computer OKNOTOK 1997 2017   10.0          Rock   \n",
      "2177                                   Supreme Clientele   10.0           Rap   \n",
      "2431                       Bach: The Goldberg Variations   10.0          Jazz   \n",
      "2493                                        Ready to Die   10.0           Rap   \n",
      "2499                         Either/Or: Expanded Edition   10.0          Rock   \n",
      "2533                                 Weezer (Blue Album)   10.0          Rock   \n",
      "2612                                           Homogenic   10.0    Electronic   \n",
      "2691                                Germfree Adolescents   10.0          Rock   \n",
      "2907                                           Metal Box   10.0          Rock   \n",
      "2916                                 Blood on the Tracks   10.0          Rock   \n",
      "3071                                 Another Green World   10.0  Experimental   \n",
      "3167                            Songs in the Key of Life   10.0       Pop/R&B   \n",
      "3246                                   The Philips Years   10.0          Jazz   \n",
      "3370                                 Tonight's the Night   10.0          Rock   \n",
      "3422                                      Hounds of Love   10.0       Pop/R&B   \n",
      "...                                                  ...    ...           ...   \n",
      "7359                                             Rumours   10.0          Rock   \n",
      "7419                                            Illmatic   10.0           Rap   \n",
      "7444                                 Donuts (45 Box Set)   10.0           Rap   \n",
      "7509                                              Voodoo   10.0       Pop/R&B   \n",
      "7584                            The Disintegration Loops   10.0  Experimental   \n",
      "7969             Liquid Swords: Chess Box Deluxe Edition   10.0           Rap   \n",
      "8214           Isn't Anything / Loveless / EPs 1988-1991   10.0  Experimental   \n",
      "8683                Tago Mago [40th Anniversary Edition]   10.0  Experimental   \n",
      "8809                                  The Smile Sessions   10.0          Rock   \n",
      "8849                        Laughing Stock / Mark Hollis   10.0          Rock   \n",
      "8939                Nevermind [20th Anniversary Edition]   10.0          Rock   \n",
      "9790                       Emergency & I [Vinyl Reissue]   10.0          Rock   \n",
      "9885                   My Beautiful Dark Twisted Fantasy   10.0           Rap   \n",
      "9950   Pinkerton [Deluxe Edition] / Death to False Metal   10.0          Rock   \n",
      "10430                    Disintegration [Deluxe Edition]   10.0          Rock   \n",
      "10505                 Exile on Main St. [Deluxe Edition]   10.0          Rock   \n",
      "10765                                Quarantine the Past   10.0          Rock   \n",
      "10785  Ladies and Gentlemen We are Floating in Space ...   10.0  Experimental   \n",
      "11310                                    The Stone Roses   10.0          Rock   \n",
      "11313                                         Abbey Road   10.0          Rock   \n",
      "11315                                        The Beatles   10.0          Rock   \n",
      "11317                               Magical Mystery Tour   10.0          Rock   \n",
      "11318              Sgt. Pepper's Lonely Hearts Club Band   10.0          Rock   \n",
      "11319                                           Revolver   10.0          Rock   \n",
      "11320                                        Rubber Soul   10.0          Rock   \n",
      "11326                               Stereo Box / In Mono   10.0          Rock   \n",
      "11371                  Kid A: Special Collectors Edition   10.0          Rock   \n",
      "11531                         Reckoning [Deluxe Edition]   10.0          Rock   \n",
      "11875                          Histoire de Melody Nelson   10.0       Pop/R&B   \n",
      "12016                                    Paul's Boutique   10.0           Rap   \n",
      "\n",
      "                                                  review best  \\\n",
      "176    sunday pitchfork takes indepth look significan...    0   \n",
      "239    sunday pitchfork takes indepth look significan...    0   \n",
      "456    sunday pitchfork takes indepth look significan...    0   \n",
      "490    best new reissue newly reissued vinyl bikini k...    1   \n",
      "556    sunday pitchfork takes indepth look significan...    0   \n",
      "581    sunday pitchfork takes indepth look significan...    0   \n",
      "916    sunday pitchfork takes indepth look significan...    0   \n",
      "942    sunday pitchfork takes indepth look significan...    0   \n",
      "1057   best new reissue liz phair indelible essential...    1   \n",
      "1070   best new reissue captain beefheart masterpiece...    1   \n",
      "1224   sunday pitchfork takes indepth look significan...    0   \n",
      "1543   best new reissue metallica released inarguably...    1   \n",
      "1683   newly reissued boxed set smiths masterpiece st...    0   \n",
      "2035   debut guns n roses watershed moment rock chron...    0   \n",
      "2095   best new reissue purple rain turned prince glo...    1   \n",
      "2109   best new reissue twenty years radiohead revisi...    1   \n",
      "2177   unrivaled classic supreme clientele marked sei...    0   \n",
      "2431   albums two virtuosic performances bach composi...    0   \n",
      "2493   today commemorate anniversary death christophe...    0   \n",
      "2499   best new reissue anniversary remaster smith fi...    1   \n",
      "2533   weezer debut filled geeky humor dense cultural...    0   \n",
      "2612   homogenic embraced björk provocative contradic...    0   \n",
      "2691   xray spex debut album brash vivid masterpiece ...    0   \n",
      "2907   best new reissue pil second album metal box ne...    1   \n",
      "2916   bob dylan moody epic often referred breakup al...    0   \n",
      "3071   brian eno done everything producing huge pop s...    0   \n",
      "3167   songs key life culmination historic period cre...    0   \n",
      "3246   albums philips years humble title collection c...    0   \n",
      "3370   neil youngs tonight night harrowing record los...    0   \n",
      "3422   selfproduced fifth album kate bush became tota...    0   \n",
      "...                                                  ...  ...   \n",
      "7359   best new reissue upon release rumours reissued...    1   \n",
      "7419   best new reissue hiphop landmark reissued box ...    1   \n",
      "7444   best new reissue songs j dilla signature produ...    1   \n",
      "7509   best new reissue twelve years since dangelo re...    1   \n",
      "7584   best new reissue four volumes william basinski...    1   \n",
      "7969   best new reissue solo artist gza essentially e...    1   \n",
      "8214   best new reissue best new reissue best new rei...    1   \n",
      "8683   album tago mago freshly reissued anniversary e...    0   \n",
      "8809   best new reissue conceived recorded ultimately...    1   \n",
      "8849   best new reissue best new reissue albums magni...    1   \n",
      "8939   twenty years album changed course popular musi...    0   \n",
      "9790   best new reissue one alltime great indie rock ...    1   \n",
      "9885   best new music kanye big year culminates lp fe...    1   \n",
      "9950   best new reissue albums weezer overlooked seco...    1   \n",
      "10430  best new reissue cure album released arguably ...    1   \n",
      "10505  best new reissue classic given remaster deluxe...    1   \n",
      "10765  best new reissue first careerspanning pavement...    1   \n",
      "10785  best new reissue new deluxe limited product ha...    1   \n",
      "11310  best new reissue badly needed remaster landmar...    1   \n",
      "11313  perfect ending recording career lp shows band ...    0   \n",
      "11315  indulgent sprawling overflowing ideas excess w...    0   \n",
      "11317  american release become part beatles canon mag...    0   \n",
      "11318  though perhaps slipped estimation since initia...    0   \n",
      "11319  devoted time studio beatles individual voices ...    0   \n",
      "11320  beatles first undisputed masterpiece quietest ...    0   \n",
      "11326  best new reissue best new reissue albums beatl...    1   \n",
      "11371  best new reissue capitol follows excavation ra...    1   \n",
      "11531  best new reissue expanded reissues albums rem ...    1   \n",
      "11875  best new reissue almost unbelievably french ma...    1   \n",
      "12016  best new reissue beastie boys landmark second ...    1   \n",
      "\n",
      "                    date rating  \n",
      "176      February 3 2019      1  \n",
      "239      January 13 2019      1  \n",
      "456      October 21 2018      1  \n",
      "490      October 11 2018      1  \n",
      "556    September 23 2018      1  \n",
      "581    September 16 2018      1  \n",
      "916         June 10 2018      1  \n",
      "942          June 3 2018      1  \n",
      "1057          May 2 2018      1  \n",
      "1070       April 28 2018      1  \n",
      "1224       March 18 2018      1  \n",
      "1543     December 2 2017      1  \n",
      "1683     October 22 2017      1  \n",
      "2035        July 16 2017      1  \n",
      "2095        June 26 2017      1  \n",
      "2109        June 22 2017      1  \n",
      "2177         June 4 2017      1  \n",
      "2431       March 26 2017      1  \n",
      "2493        March 9 2017      1  \n",
      "2499        March 7 2017      1  \n",
      "2533    February 26 2017      1  \n",
      "2612     February 5 2017      1  \n",
      "2691     January 15 2017      1  \n",
      "2907     November 1 2016      1  \n",
      "2916     October 30 2016      1  \n",
      "3071   September 18 2016      1  \n",
      "3167      August 21 2016      1  \n",
      "3246        July 30 2016      1  \n",
      "3370        June 26 2016      1  \n",
      "3422        June 12 2016      1  \n",
      "...                  ...    ...  \n",
      "7359     February 8 2013      1  \n",
      "7419     January 23 2013      1  \n",
      "7444     January 16 2013      1  \n",
      "7509    December 12 2012      1  \n",
      "7584    November 19 2012      1  \n",
      "7969        July 27 2012      1  \n",
      "8214         May 11 2012      1  \n",
      "8683     December 9 2011      1  \n",
      "8809     November 2 2011      1  \n",
      "8849     October 21 2011      1  \n",
      "8939   September 27 2011      1  \n",
      "9790     January 11 2011      1  \n",
      "9885    November 22 2010      1  \n",
      "9950     November 3 2010      1  \n",
      "10430       June 10 2010      1  \n",
      "10505        May 19 2010      1  \n",
      "10765       March 8 2010      1  \n",
      "10785       March 2 2010      1  \n",
      "11310  September 11 2009      1  \n",
      "11313  September 10 2009      1  \n",
      "11315  September 10 2009      1  \n",
      "11317   September 9 2009      1  \n",
      "11318   September 9 2009      1  \n",
      "11319   September 9 2009      1  \n",
      "11320   September 9 2009      1  \n",
      "11326   September 7 2009      1  \n",
      "11371     August 25 2009      1  \n",
      "11531        July 2 2009      1  \n",
      "11875      March 26 2009      1  \n",
      "12016   February 13 2009      1  \n",
      "\n",
      "[79 rows x 10 columns]\n"
     ]
    }
   ],
   "source": [
    "#Create dataframe of albums with a perfect score of 10\n",
    "perfect = pd.DataFrame(data=None, index=None, columns=pitchfork_df.columns)\n",
    "for i in range(len(pitchfork_df)):\n",
    "    if pitchfork_df['score'][i] == 10.0:\n",
    "        perfect = perfect.append(pitchfork_df.loc[i])\n",
    "print(perfect.shape)\n",
    "print(perfect)"
   ]
  },
  {
   "cell_type": "code",
   "execution_count": 17,
   "metadata": {},
   "outputs": [
    {
     "name": "stdout",
     "output_type": "stream",
     "text": [
      "The Beatles                             7\n",
      "The Velvet Underground                  3\n",
      "Prince                                  3\n",
      "David Bowie                             2\n",
      "Nirvana                                 2\n",
      "Metallica                               2\n",
      "Prince / The Revolution                 2\n",
      "The Rolling Stones                      2\n",
      "Radiohead                               2\n",
      "Weezer                                  2\n",
      "John Coltrane                           1\n",
      "X-Ray Spex                              1\n",
      "J Dilla                                 1\n",
      "Talk Talk / Mark Hollis                 1\n",
      "Pavement                                1\n",
      "Alice Coltrane                          1\n",
      "Hole                                    1\n",
      "Neil Young                              1\n",
      "The Band                                1\n",
      "Guns N' Roses                           1\n",
      "Captain Beefheart and His Magic Band    1\n",
      "The Smiths                              1\n",
      "Kanye West                              1\n",
      "Public Enemy                            1\n",
      "Talk Talk                               1\n",
      "The Notorious B.I.G.                    1\n",
      "A Tribe Called Quest                    1\n",
      "Bikini Kill                             1\n",
      "Kate Bush                               1\n",
      "The Stone Roses                         1\n",
      "                                       ..\n",
      "Spiritualized                           1\n",
      "The Cure                                1\n",
      "My Bloody Valentine                     1\n",
      "PJ Harvey                               1\n",
      "Glenn Gould                             1\n",
      "Mobb Deep                               1\n",
      "Ghostface Killah                        1\n",
      "GZA                                     1\n",
      "Stevie Wonder                           1\n",
      "The Dismemberment Plan                  1\n",
      "Elliott Smith                           1\n",
      "Michael Jackson                         1\n",
      "D’Angelo                                1\n",
      "Fleetwood Mac                           1\n",
      "William Basinski                        1\n",
      "R.E.M.                                  1\n",
      "Liz Phair                               1\n",
      "Can                                     1\n",
      "Nina Simone                             1\n",
      "Talking Heads                           1\n",
      "Slint                                   1\n",
      "Brian Eno                               1\n",
      "Serge Gainsbourg                        1\n",
      "Bob Dylan                               1\n",
      "Van Morrison                            1\n",
      "The Beach Boys                          1\n",
      "Beastie Boys                            1\n",
      "Björk                                   1\n",
      "Public Image Ltd                        1\n",
      "Nas                                     1\n",
      "Name: artist, Length: 62, dtype: int64\n",
      "                    Artist Albums\n",
      "0              The Beatles      7\n",
      "1   The Velvet Underground      3\n",
      "2                   Prince      3\n",
      "3              David Bowie      2\n",
      "4                  Nirvana      2\n",
      "5                Metallica      2\n",
      "6  Prince / The Revolution      2\n",
      "7       The Rolling Stones      2\n",
      "8                Radiohead      2\n",
      "9                   Weezer      2\n"
     ]
    },
    {
     "data": {
      "text/plain": [
       "[Text(0, 0, 'The Beatles'),\n",
       " Text(0, 0, 'The Velvet Underground'),\n",
       " Text(0, 0, 'Prince'),\n",
       " Text(0, 0, 'David Bowie'),\n",
       " Text(0, 0, 'Nirvana'),\n",
       " Text(0, 0, 'Metallica'),\n",
       " Text(0, 0, 'Prince / The Revolution'),\n",
       " Text(0, 0, 'The Rolling Stones'),\n",
       " Text(0, 0, 'Radiohead'),\n",
       " Text(0, 0, 'Weezer')]"
      ]
     },
     "execution_count": 17,
     "metadata": {},
     "output_type": "execute_result"
    },
    {
     "data": {
      "image/png": "[encoded data removed]",
      "text/plain": [
       "<Figure size 432x288 with 1 Axes>"
      ]
     },
     "metadata": {
      "needs_background": "light"
     },
     "output_type": "display_data"
    }
   ],
   "source": [
    "#Count the number of perfect scores by artist\n",
    "perf_counts = perfect['artist'].value_counts()\n",
    "print(perf_counts)\n",
    "\n",
    "perf_artists = perfect.artist.unique()\n",
    "#Create data frame with artists who have multiple perfect scores\n",
    "perf_multi = pd.DataFrame(data=None, index=None, columns=['Artist','Albums'])\n",
    "for i in range(len(perf_counts)):\n",
    "    if perf_counts.values[i] > 1:\n",
    "        perf_multi = perf_multi.append({'Artist' : perf_counts.index[i], 'Albums' : perf_counts.values[i]}, ignore_index=True)\n",
    "print(perf_multi)\n",
    "\n",
    "#Create bar graph of artists who have multiple perfect scores and the total perfect score per artist\n",
    "ax = sns.barplot(x=\"Artist\", y=\"Albums\", data=perf_multi)\n",
    "ax.set_xticklabels(ax.get_xticklabels(), rotation=80)"
   ]
  },
  {
   "cell_type": "code",
   "execution_count": null,
   "metadata": {},
   "outputs": [],
   "source": []
  },
  {
   "cell_type": "code",
   "execution_count": 18,
   "metadata": {},
   "outputs": [
    {
     "data": {
      "image/png": "[encoded data removed]",
      "text/plain": [
       "<Figure size 432x288 with 1 Axes>"
      ]
     },
     "metadata": {
      "needs_background": "light"
     },
     "output_type": "display_data"
    }
   ],
   "source": [
    "from os import path\n",
    "from PIL import Image\n",
    "from wordcloud import WordCloud, STOPWORDS, ImageColorGenerator\n",
    "\n",
    "\n",
    "# Start with one review:\n",
    "text = pitchfork_df.review[0]\n",
    "\n",
    "# Create and generate a word cloud image:\n",
    "wordcloud = WordCloud().generate(text)\n",
    "\n",
    "# Display the generated image:\n",
    "plt.imshow(wordcloud, interpolation='bilinear')\n",
    "plt.axis(\"off\")\n",
    "plt.show()\n",
    "\n",
    "\n"
   ]
  },
  {
   "cell_type": "markdown",
   "metadata": {},
   "source": [
    "# Feature Engineering"
   ]
  },
  {
   "cell_type": "code",
   "execution_count": 19,
   "metadata": {},
   "outputs": [],
   "source": [
    "import nltk\n",
    "from nltk.stem.porter import PorterStemmer\n",
    "\n",
    "def tokenizeStem(text):\n",
    "    tokens = nltk.word_tokenize(text)\n",
    "    stems = []\n",
    "    for item in tokens:\n",
    "        stems.append(PorterStemmer().stem(item))\n",
    "    return stems"
   ]
  },
  {
   "cell_type": "code",
   "execution_count": 20,
   "metadata": {},
   "outputs": [
    {
     "name": "stderr",
     "output_type": "stream",
     "text": [
      "[nltk_data] Downloading package punkt to\n",
      "[nltk_data]     /Users/johncrider/nltk_data...\n",
      "[nltk_data]   Package punkt is already up-to-date!\n"
     ]
    },
    {
     "data": {
      "text/plain": [
       "True"
      ]
     },
     "execution_count": 20,
     "metadata": {},
     "output_type": "execute_result"
    }
   ],
   "source": [
    "from sklearn.model_selection import train_test_split\n",
    "\n",
    "from sklearn.feature_extraction.text import TfidfVectorizer,  CountVectorizer,TfidfTransformer  \n",
    "from sklearn.model_selection import GridSearchCV  \n",
    "from sklearn.naive_bayes import MultinomialNB  \n",
    "\n",
    "from sklearn.pipeline import Pipeline  \n",
    "from time import time  \n",
    "from sklearn.svm import LinearSVC\n",
    "nltk.download('punkt')"
   ]
  },
  {
   "cell_type": "code",
   "execution_count": 21,
   "metadata": {},
   "outputs": [],
   "source": [
    "\n",
    "#Change the variable minisize while exploring.\n",
    "# smaller numbers like .05 can be used to speed\n",
    "# up processing (fewer number of documents used\n",
    "# from corpus). For final processing, minisze should\n",
    "# be set to 0.9999\n",
    "minisize = 0.9999\n",
    "\n",
    "X = pitchfork_df['review']\n",
    "y = pitchfork_df['rating']\n",
    "X_train, X_test, y_train, y_test = train_test_split(X, y,test_size=minisize, random_state=42)\n",
    "X_train_mini, X_test_mini, y_train_mini, y_test_mini = train_test_split(X_test, y_test,test_size=0.25)\n",
    "\n"
   ]
  },
  {
   "cell_type": "code",
   "execution_count": 22,
   "metadata": {},
   "outputs": [
    {
     "name": "stdout",
     "output_type": "stream",
     "text": [
      "done in 129.2406406402588s\n",
      "Pipeline(memory=None,\n",
      "     steps=[('vec', CountVectorizer(analyzer='word', binary=False, decode_error='strict',\n",
      "        dtype=<class 'numpy.int64'>, encoding='utf-8', input='content',\n",
      "        lowercase=True, max_df=0.5, max_features=700000, min_df=1,\n",
      "        ngram_range=(1, 3), preprocessor=None, stop_words=None,\n",
      "        stri...ax_iter=1000,\n",
      "     multi_class='ovr', penalty='l2', random_state=None, tol=0.0001,\n",
      "     verbose=0))])\n"
     ]
    }
   ],
   "source": [
    "#build pipeline for Support Vector Machine classifier\n",
    "t0 = time()  \n",
    "pipelineSVM = Pipeline([\n",
    "    ('vec', CountVectorizer(tokenizer=tokenizeStem, \n",
    "                            max_df=0.5, \n",
    "                            max_features=700000, \n",
    "                            min_df=1, \n",
    "                            ngram_range=(1,3))),\n",
    "    ('tfidf', TfidfTransformer()), \n",
    "    ('clf', LinearSVC())])\n",
    "pipelineSVM.fit(X_train_mini, y_train_mini)\n",
    "print(\"done in {0}s\".format(time() - t0))  \n",
    "print(pipelineSVM)"
   ]
  },
  {
   "cell_type": "markdown",
   "metadata": {},
   "source": [
    "# Modeling"
   ]
  },
  {
   "cell_type": "code",
   "execution_count": 23,
   "metadata": {},
   "outputs": [
    {
     "name": "stdout",
     "output_type": "stream",
     "text": [
      "done in 130.12036323547363s\n"
     ]
    }
   ],
   "source": [
    "#build pipeline for Naive-Bayes classifier\n",
    "t0 = time()  \n",
    "pipelineNB = Pipeline([\n",
    "    ('vec', CountVectorizer(tokenizer=tokenizeStem, \n",
    "                            max_df=0.5, \n",
    "                            max_features=700000, \n",
    "                            min_df=1, \n",
    "                            ngram_range=(1,3))),\n",
    "    ('tfidf', TfidfTransformer()), \n",
    "    ('clf', MultinomialNB(alpha=.05))])\n",
    "pipelineNB.fit(X_train_mini, y_train_mini)\n",
    "print(\"done in {0}s\".format(time() - t0))  "
   ]
  },
  {
   "cell_type": "code",
   "execution_count": 24,
   "metadata": {},
   "outputs": [
    {
     "name": "stdout",
     "output_type": "stream",
     "text": [
      "done in 378.0270199775696s\n"
     ]
    }
   ],
   "source": [
    "#build pipeline for Neural Network classifier\n",
    "t0 = time()  \n",
    "pipelineNN = Pipeline([\n",
    "    ('vec', CountVectorizer(tokenizer=tokenizeStem, \n",
    "                            max_df=0.5, \n",
    "                            max_features=700000, \n",
    "                            min_df=1, \n",
    "                            ngram_range=(1,3))),\n",
    "    ('tfidf', TfidfTransformer()), \n",
    "    ('clf', MLPClassifier(hidden_layer_sizes=(10,9)))])\n",
    "pipelineNN.fit(X_train_mini, y_train_mini)\n",
    "print(\"done in {0}s\".format(time() - t0))  "
   ]
  },
  {
   "cell_type": "markdown",
   "metadata": {},
   "source": [
    "# Evaluation"
   ]
  },
  {
   "cell_type": "code",
   "execution_count": 25,
   "metadata": {},
   "outputs": [
    {
     "name": "stdout",
     "output_type": "stream",
     "text": [
      "0.7429322813938198\n",
      "0.6801446416831032\n",
      "0.7521367521367521\n"
     ]
    }
   ],
   "source": [
    "# score for SVM\n",
    "print(pipelineSVM.score(X_test_mini, y_test_mini))\n",
    "# score for Naive-Bayes\n",
    "print(pipelineNB.score(X_test_mini, y_test_mini))\n",
    "# score for Nerual Networl\n",
    "print(pipelineNN.score(X_test_mini, y_test_mini))\n"
   ]
  },
  {
   "cell_type": "markdown",
   "metadata": {},
   "source": [
    "# References\n",
    "\n",
    "Dhande, Meenal (2017, May 6) What is the difference between AI , machine learning, and deep learning. Retrieved March 20, 2019, from https://www.geospatialworld.net/blogs/difference-between-ai%EF%BB%BF-machine-learning-and-deep-learning/\n",
    "\n",
    "Beautiful Soup Documentation — Beautiful Soup 4.4.0 documentation. (n.d.). Retrieved March 20, 2019, from https://www.crummy.com/software/BeautifulSoup/bs4/doc/\n",
    "\n",
    "Haddi, E., Liu, X., & Shi, Y. (2013). The Role of Text Pre-processing in Sentiment Analysis. Procedia Computer Science, 17, 26–32.\n",
    "\n",
    "Samal, B., Behera, A. K., & Panda, M. (2017). Performance analysis of supervised machine learning techniques for sentiment analysis. In 2017 Third International Conference on Sensing, Signal Processing and Security (ICSSS) (pp. 128–133).\n",
    "\n",
    "Berwick, R., & Idiot, V. (n.d.). An Idiot’s guide to Support vector machines (SVMs). Retrieved from http://web.mit.edu/6.034/wwwbob/svm.pdf\n",
    "\n",
    "Sarkar, D. (dj). (2018, June 19). A Practitioner’s Guide to Natural Language Processing (Part I) — Processing & Understanding Text. Retrieved March 22, 2019, from https://towardsdatascience.com/a-practitioners-guide-to-natural-language-processing-part-i-processing-understanding-text-9f4abfd13e72\n"
   ]
  },
  {
   "cell_type": "code",
   "execution_count": null,
   "metadata": {},
   "outputs": [],
   "source": []
  }
 ],
 "metadata": {
  "kernelspec": {
   "display_name": "Python 3",
   "language": "python",
   "name": "python3"
  },
  "language_info": {
   "codemirror_mode": {
    "name": "ipython",
    "version": 3
   },
   "file_extension": ".py",
   "mimetype": "text/x-python",
   "name": "python",
   "nbconvert_exporter": "python",
   "pygments_lexer": "ipython3",
   "version": "3.7.1"
  }
 },
 "nbformat": 4,
 "nbformat_minor": 2
}
